{
 "cells": [
  {
   "cell_type": "code",
   "execution_count": 1,
   "metadata": {
    "collapsed": true
   },
   "outputs": [],
   "source": [
    "from __future__ import print_function, division"
   ]
  },
  {
   "cell_type": "code",
   "execution_count": 2,
   "metadata": {
    "collapsed": true
   },
   "outputs": [],
   "source": [
    "import random\n",
    "import uuid\n",
    "import os\n",
    "import sys"
   ]
  },
  {
   "cell_type": "markdown",
   "metadata": {},
   "source": [
    "### Utilities"
   ]
  },
  {
   "cell_type": "markdown",
   "metadata": {},
   "source": [
    "#### Pretty printers"
   ]
  },
  {
   "cell_type": "code",
   "execution_count": 3,
   "metadata": {
    "collapsed": true
   },
   "outputs": [],
   "source": [
    "# %load 'utils.py'\n",
    "from IPython.display import display, HTML\n",
    "\n",
    "def pp_bold(str):\n",
    "    display(HTML('<b>{}</b>'.format(str)))\n",
    "\n",
    "\n",
    "def pp_listOflist(l):\n",
    "    display(HTML(\n",
    "        u'<table>{}</table>'.format(\n",
    "            u''.join(u'<tr>{}</tr>'.format(\n",
    "                u''.join(u'<td>{}</td>'.format(v) for v in sublist)) for sublist in l))))\n",
    "    \n",
    "\n",
    "def pp_dict(d, rows=None):\n",
    "    if not rows or rows >= len(d):\n",
    "        display(HTML(\n",
    "            u'<table>{}</table>'.format(\n",
    "                u''.join(u'<tr><td><b>{}</b></td><td>{}</td></tr>'.format(k, d[k]) for k in d))))\n",
    "    else:\n",
    "        nitems = len(d)\n",
    "        width = -(-nitems // rows)\n",
    "        i = 0\n",
    "        list_ = [[] for _ in range(rows)]\n",
    "        for _ in range(width):\n",
    "            for row in range(rows):\n",
    "                if i < nitems:\n",
    "                    k, v = d.items()[i]\n",
    "                    list_[row].extend(['<b>{}</b>'.format(k), v])\n",
    "                i += 1\n",
    "        pp_listOflist(list_)\n",
    "\n",
    "\n",
    "def pp_dictOflist(d):\n",
    "    display(HTML(\n",
    "        u'<table>{}</table>'.format(\n",
    "            u''.join(u'<tr><td><b>{}</b></td>{}</tr>'.format(k,\n",
    "                u''.join(u'<td>{}</td>'.format(v) for v in d[k])) for k in d.keys()))))\n",
    "    \n",
    "\n",
    "def pp_dfinfo(df, width=4):\n",
    "    ncols = len(df.columns)\n",
    "    width = min(width, ncols)\n",
    "    depth = -(-ncols // width)\n",
    "    i = 0\n",
    "    list_ = [[] for _ in range(depth)]\n",
    "    for _ in range(width):\n",
    "        for row in range(depth):\n",
    "            if i < ncols:\n",
    "                col = df.columns[i]\n",
    "                list_[row].extend(['<b>{}</b>'.format(col), df[col].count(), df.dtypes[i]])\n",
    "            i += 1\n",
    "\n",
    "    print('{} entries, {} columns'.format(len(df), ncols))\n",
    "    pp_listOflist(list_)\n",
    "\n",
    "\n",
    "def pp_counts(series, rows=1, caption=None):\n",
    "    if caption: pp_bold(caption)\n",
    "    list_ = [(k, '{:.4f}'.format(v)) for k, v in series.to_dict().items()] \n",
    "    dict_ = OrderedDict(sorted(list_, key=lambda x: x[0]))\n",
    "    pp_dict(dict_, rows)\n",
    "\n",
    "\n",
    "def pp_progress(s):\n",
    "    sys.stdout.write('\\r{}'.format(s))\n",
    "    sys.stdout.flush()\n"
   ]
  },
  {
   "cell_type": "markdown",
   "metadata": {},
   "source": [
    "#### A simple URL cache"
   ]
  },
  {
   "cell_type": "code",
   "execution_count": 4,
   "metadata": {
    "collapsed": true
   },
   "outputs": [],
   "source": [
    "import os\n",
    "import pickle\n",
    "import requests\n",
    "\n",
    "_cache = None\n",
    "_cache_dir = \"./cache\"\n",
    "_cache_index = os.path.join(_cache_dir, 'index.pkl')\n",
    "\n",
    "def cache_init():\n",
    "    global _cache\n",
    "    if _cache == None:\n",
    "        if os.path.exists(_cache_index):\n",
    "            with open(_cache_index, 'rb') as fd:\n",
    "                _cache = pickle.load(fd)\n",
    "        else:\n",
    "            _cache = {}\n",
    "    return _cache\n",
    "\n",
    "def cache_get(key):\n",
    "    return cache_init().get(key, '')\n",
    "\n",
    "def cache_add(key, value):\n",
    "    cache = cache_init()\n",
    "    cache[key] = value\n",
    "    with open(_cache_index, 'wb') as fd:\n",
    "        pickle.dump(cache, fd)\n",
    "\n",
    "def cache_term():\n",
    "    with open(_cache_index, 'wb') as fd:\n",
    "        pickle.dump(cache, fd)"
   ]
  },
  {
   "cell_type": "markdown",
   "metadata": {},
   "source": [
    "### Web Scraping"
   ]
  },
  {
   "cell_type": "code",
   "execution_count": 35,
   "metadata": {
    "collapsed": false
   },
   "outputs": [],
   "source": [
    "def get_page(url, driver):\n",
    "    \"\"\"Get a web page.\"\"\"\n",
    "\n",
    "    # Check if we have this page\n",
    "    \n",
    "    filename = cache_get(url)\n",
    "    if filename and os.path.exists(filename):\n",
    "        with open(filename, 'rb') as fd:\n",
    "            return fd.read()\n",
    "\n",
    "    # Otherwise, download the page ...\n",
    "    \n",
    "    driver.get(url)\n",
    "    wait = WebDriverWait(driver, 5)\n",
    "    wait.until(EC.presence_of_element_located((By.CLASS_NAME, 'pagination')))\n",
    "    html_doc = driver.page_source\n",
    "\n",
    "    # ... and cache it\n",
    "\n",
    "    global _cache_dir\n",
    "    if not os.path.isdir(_cache_dir):\n",
    "        os.mkdir(_cache_dir)\n",
    "        \n",
    "    if not filename:\n",
    "        filename = os.path.join(_cache_dir, uuid.uuid4().hex)\n",
    "\n",
    "    with open(filename, 'wb') as fd:\n",
    "        fd.write(html_doc.encode('utf-8'))\n",
    "\n",
    "    cache_add(url, filename)\n",
    "    \n",
    "    return html_doc"
   ]
  },
  {
   "cell_type": "code",
   "execution_count": 30,
   "metadata": {
    "collapsed": true
   },
   "outputs": [],
   "source": [
    "from selenium import webdriver\n",
    "from selenium.webdriver.support.ui import WebDriverWait\n",
    "from selenium.webdriver.support import expected_conditions as EC\n",
    "from selenium.common.exceptions import TimeoutException\n",
    "from selenium.webdriver.common.by import By\n",
    "\n",
    "chromedriver = \"/home/dexter/bin/chromedriver\"\n",
    "os.environ[\"webdriver.chrome.driver\"] = chromedriver\n",
    "driver = webdriver.Chrome(chromedriver)"
   ]
  },
  {
   "cell_type": "code",
   "execution_count": 31,
   "metadata": {
    "collapsed": false
   },
   "outputs": [
    {
     "name": "stdout",
     "output_type": "stream",
     "text": [
      "Page is ready!\n"
     ]
    }
   ],
   "source": [
    "driver.get('http://streeteasy.com/for-rent/nyc')\n",
    "wait = WebDriverWait(driver, 5)\n",
    "wait.until(EC.presence_of_element_located((By.CLASS_NAME, 'pagination')))\n",
    "print(\"Page is ready!\")"
   ]
  },
  {
   "cell_type": "code",
   "execution_count": 32,
   "metadata": {
    "collapsed": true
   },
   "outputs": [],
   "source": [
    "URL_STREETEASY = 'http://streeteasy.com/for-rent/nyc?page={}'"
   ]
  },
  {
   "cell_type": "code",
   "execution_count": 36,
   "metadata": {
    "collapsed": false
   },
   "outputs": [
    {
     "name": "stdout",
     "output_type": "stream",
     "text": [
      "Getting page 2169"
     ]
    }
   ],
   "source": [
    "for pageno in range(1, 2170):\n",
    "    pp_progress('Getting page {}'.format(pageno))\n",
    "    url = URL_STREETEASY.format(pageno)\n",
    "    filename = cache_get(url)\n",
    "    if not (filename and os.path.exists(filename)):\n",
    "        html_doc = get_page(url, driver)\n",
    "        del html_doc"
   ]
  },
  {
   "cell_type": "code",
   "execution_count": 14,
   "metadata": {
    "collapsed": true
   },
   "outputs": [],
   "source": []
  },
  {
   "cell_type": "code",
   "execution_count": 92,
   "metadata": {
    "collapsed": true
   },
   "outputs": [],
   "source": [
    "from bs4 import BeautifulSoup"
   ]
  },
  {
   "cell_type": "code",
   "execution_count": 93,
   "metadata": {
    "collapsed": true
   },
   "outputs": [],
   "source": [
    "def scrape_page(url):\n",
    "    result = []\n",
    "    soup = BeautifulSoup(get_page(url), 'lxml')\n",
    "    pass"
   ]
  }
 ],
 "metadata": {
  "anaconda-cloud": {},
  "kernelspec": {
   "display_name": "Python [default]",
   "language": "python",
   "name": "python2"
  },
  "language_info": {
   "codemirror_mode": {
    "name": "ipython",
    "version": 2
   },
   "file_extension": ".py",
   "mimetype": "text/x-python",
   "name": "python",
   "nbconvert_exporter": "python",
   "pygments_lexer": "ipython2",
   "version": "2.7.12"
  }
 },
 "nbformat": 4,
 "nbformat_minor": 1
}
