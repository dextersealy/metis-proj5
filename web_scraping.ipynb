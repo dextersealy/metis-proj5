{
 "cells": [
  {
   "cell_type": "code",
   "execution_count": 1,
   "metadata": {
    "collapsed": true
   },
   "outputs": [],
   "source": [
    "from __future__ import print_function, division"
   ]
  },
  {
   "cell_type": "code",
   "execution_count": 2,
   "metadata": {
    "collapsed": true
   },
   "outputs": [],
   "source": [
    "import random\n",
    "import uuid\n",
    "import os\n",
    "import sys"
   ]
  },
  {
   "cell_type": "markdown",
   "metadata": {},
   "source": [
    "### Helper Functions"
   ]
  },
  {
   "cell_type": "markdown",
   "metadata": {},
   "source": [
    "Import functions for creating nicely formatted output."
   ]
  },
  {
   "cell_type": "code",
   "execution_count": 3,
   "metadata": {
    "collapsed": true
   },
   "outputs": [],
   "source": [
    "# %load 'utils.py'\n",
    "from IPython.display import display, HTML\n",
    "\n",
    "def pp_bold(str):\n",
    "    display(HTML('<b>{}</b>'.format(str)))\n",
    "\n",
    "\n",
    "def pp_listOflist(l):\n",
    "    display(HTML(\n",
    "        u'<table>{}</table>'.format(\n",
    "            u''.join(u'<tr>{}</tr>'.format(\n",
    "                u''.join(u'<td>{}</td>'.format(v) for v in sublist)) for sublist in l))))\n",
    "    \n",
    "\n",
    "def pp_dict(d, rows=None):\n",
    "    if not rows or rows >= len(d):\n",
    "        display(HTML(\n",
    "            u'<table>{}</table>'.format(\n",
    "                u''.join(u'<tr><td><b>{}</b></td><td>{}</td></tr>'.format(k, d[k]) for k in d))))\n",
    "    else:\n",
    "        nitems = len(d)\n",
    "        width = -(-nitems // rows)\n",
    "        i = 0\n",
    "        list_ = [[] for _ in range(rows)]\n",
    "        for _ in range(width):\n",
    "            for row in range(rows):\n",
    "                if i < nitems:\n",
    "                    k, v = d.items()[i]\n",
    "                    list_[row].extend(['<b>{}</b>'.format(k), v])\n",
    "                i += 1\n",
    "        pp_listOflist(list_)\n",
    "\n",
    "\n",
    "def pp_dictOflist(d):\n",
    "    display(HTML(\n",
    "        u'<table>{}</table>'.format(\n",
    "            u''.join(u'<tr><td><b>{}</b></td>{}</tr>'.format(k,\n",
    "                u''.join(u'<td>{}</td>'.format(v) for v in d[k])) for k in d.keys()))))\n",
    "    \n",
    "\n",
    "def pp_dfinfo(df, width=4):\n",
    "    ncols = len(df.columns)\n",
    "    width = min(width, ncols)\n",
    "    depth = -(-ncols // width)\n",
    "    i = 0\n",
    "    list_ = [[] for _ in range(depth)]\n",
    "    for _ in range(width):\n",
    "        for row in range(depth):\n",
    "            if i < ncols:\n",
    "                col = df.columns[i]\n",
    "                list_[row].extend(['<b>{}</b>'.format(col), df[col].count(), df.dtypes[i]])\n",
    "            i += 1\n",
    "\n",
    "    print('{} entries, {} columns'.format(len(df), ncols))\n",
    "    pp_listOflist(list_)\n",
    "\n",
    "\n",
    "def pp_counts(series, rows=1, caption=None):\n",
    "    if caption: pp_bold(caption)\n",
    "    list_ = [(k, '{:.4f}'.format(v)) for k, v in series.to_dict().items()] \n",
    "    dict_ = OrderedDict(sorted(list_, key=lambda x: x[0]))\n",
    "    pp_dict(dict_, rows)\n",
    "\n",
    "\n",
    "def pp_progress(s):\n",
    "    sys.stdout.write('\\r{}'.format(s))\n",
    "    sys.stdout.flush()\n"
   ]
  },
  {
   "cell_type": "markdown",
   "metadata": {},
   "source": [
    "Implement simple web page cache."
   ]
  },
  {
   "cell_type": "code",
   "execution_count": 26,
   "metadata": {
    "collapsed": true
   },
   "outputs": [],
   "source": [
    "import os\n",
    "import pickle\n",
    "import requests\n",
    "\n",
    "_cache = None\n",
    "_cache_dir = \"./cache\"\n",
    "_cache_index = os.path.join(_cache_dir, 'index.pkl')\n",
    "_cache_counter = 0\n",
    "\n",
    "def cache_init():\n",
    "    global _cache\n",
    "    if _cache == None:\n",
    "        if os.path.exists(_cache_index):\n",
    "            with open(_cache_index, 'rb') as fd:\n",
    "                _cache = pickle.load(fd)\n",
    "        else:\n",
    "            _cache = {}\n",
    "    return _cache\n",
    "\n",
    "def cache_get(key):\n",
    "    return cache_init().get(key, '')\n",
    "\n",
    "def cache_add(key, value):\n",
    "    global _cache_counter\n",
    "    cache = cache_init()\n",
    "    cache[key] = value\n",
    "    _cache_counter += 1\n",
    "    if _cache_counter % 100 == 0:\n",
    "        cache_commit()\n",
    "\n",
    "def cache_commit():\n",
    "    if not _cache == None:\n",
    "        with open(_cache_index, 'wb') as fd:\n",
    "            pickle.dump(_cache, fd)"
   ]
  },
  {
   "cell_type": "code",
   "execution_count": 437,
   "metadata": {
    "collapsed": false
   },
   "outputs": [],
   "source": [
    "def get_page(url, useCache=True):\n",
    "    \"\"\"Get a web page.\"\"\"\n",
    "\n",
    "    # Check if we have this page\n",
    "    \n",
    "    filename = cache_get(url)\n",
    "    if useCache and filename and os.path.exists(filename):\n",
    "        with open(filename, 'rb') as fd:\n",
    "            return fd.read()\n",
    "\n",
    "    # Otherwise, download the page ...\n",
    "    \n",
    "    r = requests.get(url, timeout=10)\n",
    "    r.raise_for_status()\n",
    "    \n",
    "    # ... and cache it\n",
    "\n",
    "    global _cache_dir\n",
    "    if not os.path.isdir(_cache_dir):\n",
    "        os.mkdir(_cache_dir)\n",
    "        \n",
    "    if not filename:\n",
    "        filename = os.path.join(_cache_dir, uuid.uuid4().hex + '.html')\n",
    "\n",
    "    with open(filename, 'wb') as fd:\n",
    "        for chunk in r.iter_content(chunk_size=4096):\n",
    "            fd.write(chunk)\n",
    "\n",
    "    cache_add(url, filename)\n",
    "    \n",
    "    return r.text"
   ]
  },
  {
   "cell_type": "code",
   "execution_count": 422,
   "metadata": {
    "collapsed": true
   },
   "outputs": [],
   "source": [
    "import datetime\n",
    "import re\n",
    "import time\n",
    "from bs4 import BeautifulSoup\n",
    "from geojson import Point"
   ]
  },
  {
   "cell_type": "markdown",
   "metadata": {},
   "source": [
    "### Web Scraping"
   ]
  },
  {
   "cell_type": "markdown",
   "metadata": {},
   "source": [
    "Connect to the MongoDB database."
   ]
  },
  {
   "cell_type": "code",
   "execution_count": 439,
   "metadata": {
    "collapsed": false
   },
   "outputs": [
    {
     "data": {
      "text/html": [
       "<b>53800 listings</b>"
      ],
      "text/plain": [
       "<IPython.core.display.HTML object>"
      ]
     },
     "metadata": {},
     "output_type": "display_data"
    }
   ],
   "source": [
    "import pymongo\n",
    "client = pymongo.MongoClient('ec2-34-198-246-43.compute-1.amazonaws.com', 27017)\n",
    "db = client.renthop2\n",
    "collection = db.listings\n",
    "pp_bold('{} listings'.format(collection.count()))"
   ]
  },
  {
   "cell_type": "markdown",
   "metadata": {},
   "source": [
    "Scrape the pages and add new listings."
   ]
  },
  {
   "cell_type": "code",
   "execution_count": 440,
   "metadata": {
    "collapsed": false
   },
   "outputs": [],
   "source": [
    "def extract_details(listing):\n",
    "    html_doc = get_page(listing['url'])\n",
    "    soup = BeautifulSoup(html_doc, 'lxml')\n",
    "    body = soup.find(id='listing-details-body-premap')\n",
    "    if not body:\n",
    "        print('warning: body not found: {}'.format(listing['url']), file=sys.stderr)\n",
    "        return\n",
    "\n",
    "    for div in body.find_all('div', recursive=False):\n",
    "        desc = div.find('div', id='description')\n",
    "        if desc:\n",
    "            listing['description'] = desc.find_next_sibling().text.strip()\n",
    "            continue\n",
    "\n",
    "        features_div = div.find('div', text=re.compile('Features & Amenities'))\n",
    "        if features_div:\n",
    "            features = []\n",
    "            for div in features_div.find_next_sibling().find_all('div'):\n",
    "                table = div.find('table')\n",
    "                if table:\n",
    "                    feature = table.tr.find_all('td')[1].text.strip()\n",
    "                    if 'Featured' != feature:\n",
    "                        features.append(feature)\n",
    "            listing['features'] = '\\n'.join(features)\n",
    "            continue\n",
    "\n",
    "        for table in div.find_all('table'):\n",
    "            for tr in table.find_all('tr'):\n",
    "                for td in tr.find_all('td'):\n",
    "                    if 'Studio' in td.text:\n",
    "                        listing['bedrooms'] = 0.0\n",
    "                    elif 'Bed' in td.text:\n",
    "                        listing['bedrooms'] = float(td.text.strip().split()[0])\n",
    "                    elif 'Bath' in td.text:\n",
    "                        listing['bathrooms'] = float(td.text.strip().split()[0])\n"
   ]
  },
  {
   "cell_type": "code",
   "execution_count": 443,
   "metadata": {
    "collapsed": false
   },
   "outputs": [
    {
     "name": "stdout",
     "output_type": "stream",
     "text": [
      "Scraping page 1383: https://www.renthop.com/listings/east-16th-street/6p/8661183"
     ]
    },
    {
     "name": "stderr",
     "output_type": "stream",
     "text": [
      "warning: body not found: 8614710\n"
     ]
    },
    {
     "name": "stdout",
     "output_type": "stream",
     "text": [
      "Scraping page 1432: https://www.renthop.com/listings/classon/15l/8740631"
     ]
    },
    {
     "name": "stderr",
     "output_type": "stream",
     "text": [
      "warning: body not found: 8740631\n"
     ]
    },
    {
     "name": "stdout",
     "output_type": "stream",
     "text": [
      "Scraping page 1433: https://www.renthop.com/listings/west-65th-street/4a/8348997"
     ]
    },
    {
     "name": "stderr",
     "output_type": "stream",
     "text": [
      "warning: body not found: 8602202\n"
     ]
    },
    {
     "name": "stdout",
     "output_type": "stream",
     "text": [
      "Scraping page 1516: https://www.renthop.com/listings/dahill-road/5t/8503853"
     ]
    },
    {
     "name": "stderr",
     "output_type": "stream",
     "text": [
      "warning: body not found: 8592197\n"
     ]
    },
    {
     "name": "stdout",
     "output_type": "stream",
     "text": [
      "Scraping page 1556: https://www.renthop.com/listings/31st-street/3b/8695181"
     ]
    },
    {
     "name": "stderr",
     "output_type": "stream",
     "text": [
      "warning: body not found: 8695181\n"
     ]
    },
    {
     "name": "stdout",
     "output_type": "stream",
     "text": [
      "Scraping page 1563: https://www.renthop.com/listings/west-26th-street/808/8448910"
     ]
    },
    {
     "name": "stderr",
     "output_type": "stream",
     "text": [
      "warning: body not found: 8503926\n"
     ]
    },
    {
     "name": "stdout",
     "output_type": "stream",
     "text": [
      "Scraping page 1794: https://www.renthop.com/listings/hancock-st/e/8642212"
     ]
    },
    {
     "name": "stderr",
     "output_type": "stream",
     "text": [
      "warning: body not found: 8755972\n"
     ]
    },
    {
     "name": "stdout",
     "output_type": "stream",
     "text": [
      "Scraping page 1860: https://www.renthop.com/listings/east-71st-street/jp87/8706783"
     ]
    },
    {
     "name": "stderr",
     "output_type": "stream",
     "text": [
      "warning: body not found: 8730031\n"
     ]
    },
    {
     "name": "stdout",
     "output_type": "stream",
     "text": [
      "Scraping page 1878: https://www.renthop.com/listings/e-4th-st/1/8633639"
     ]
    },
    {
     "name": "stderr",
     "output_type": "stream",
     "text": [
      "warning: body not found: 8442880\n"
     ]
    },
    {
     "name": "stdout",
     "output_type": "stream",
     "text": [
      "Scraping page 1892: https://www.renthop.com/listings/staniford-st/3404/8106016"
     ]
    },
    {
     "name": "stderr",
     "output_type": "stream",
     "text": [
      "warning: body not found: 8701643\n"
     ]
    },
    {
     "name": "stdout",
     "output_type": "stream",
     "text": [
      "Scraping page 1895: https://www.renthop.com/listings/63rd-st-3rd-ave/425/8546362"
     ]
    },
    {
     "name": "stderr",
     "output_type": "stream",
     "text": [
      "warning: body not found: 8449504\n"
     ]
    },
    {
     "name": "stdout",
     "output_type": "stream",
     "text": [
      "Scraping page 1904: https://www.renthop.com/listings/hancock-street/1j/8602189"
     ]
    },
    {
     "name": "stderr",
     "output_type": "stream",
     "text": [
      "warning: body not found: 8739229\n"
     ]
    },
    {
     "name": "stdout",
     "output_type": "stream",
     "text": [
      "Scraping page 1909: https://www.renthop.com/listings/east-32nd-street/6-a/8448596"
     ]
    },
    {
     "name": "stderr",
     "output_type": "stream",
     "text": [
      "warning: body not found: 8448596\n"
     ]
    },
    {
     "name": "stdout",
     "output_type": "stream",
     "text": [
      "Scraping page 1912: https://www.renthop.com/listings/west-43rd-street/na/8592951"
     ]
    },
    {
     "name": "stderr",
     "output_type": "stream",
     "text": [
      "warning: body not found: 8616674\n"
     ]
    },
    {
     "name": "stdout",
     "output_type": "stream",
     "text": [
      "Scraping page 1925: https://www.renthop.com/listings/mott-street/4n/8341585"
     ]
    },
    {
     "name": "stderr",
     "output_type": "stream",
     "text": [
      "warning: body not found: 8739371\n"
     ]
    },
    {
     "name": "stdout",
     "output_type": "stream",
     "text": [
      "Scraping page 1957: https://www.renthop.com/listings/e-37th-st/52/7401877"
     ]
    },
    {
     "name": "stderr",
     "output_type": "stream",
     "text": [
      "warning: body not found: 8447079\n"
     ]
    },
    {
     "name": "stdout",
     "output_type": "stream",
     "text": [
      "Scraping page 1958: https://www.renthop.com/listings/kneeland-st/1907/8220130"
     ]
    },
    {
     "name": "stderr",
     "output_type": "stream",
     "text": [
      "warning: body not found: 8634906\n"
     ]
    },
    {
     "name": "stdout",
     "output_type": "stream",
     "text": [
      "Scraping page 1969: https://www.renthop.com/listings/30th-street/4-a/8618726"
     ]
    },
    {
     "name": "stderr",
     "output_type": "stream",
     "text": [
      "warning: body not found: 8634789\n"
     ]
    },
    {
     "name": "stdout",
     "output_type": "stream",
     "text": [
      "Scraping page 1973: https://www.renthop.com/listings/east-37th-street/1aw/8723937"
     ]
    },
    {
     "name": "stderr",
     "output_type": "stream",
     "text": [
      "warning: body not found: 8657865\n"
     ]
    },
    {
     "name": "stdout",
     "output_type": "stream",
     "text": [
      "Scraping page 1988: https://www.renthop.com/listings/eighth-avenue/4a/8688425"
     ]
    },
    {
     "name": "stderr",
     "output_type": "stream",
     "text": [
      "warning: body not found: 8760565\n"
     ]
    },
    {
     "name": "stdout",
     "output_type": "stream",
     "text": [
      "Scraping page 1989: https://www.renthop.com/listings/washington-st/2009/8253649"
     ]
    },
    {
     "name": "stderr",
     "output_type": "stream",
     "text": [
      "warning: body not found: 8670750\n"
     ]
    },
    {
     "name": "stdout",
     "output_type": "stream",
     "text": [
      "Scraping page 1991: https://www.renthop.com/listings/807-halsey-street/3/7991740"
     ]
    },
    {
     "name": "stderr",
     "output_type": "stream",
     "text": [
      "warning: body not found: 8634355\n"
     ]
    },
    {
     "name": "stdout",
     "output_type": "stream",
     "text": [
      "Scraping page 1993: https://www.renthop.com/listings/nashua-st/2902/8401702"
     ]
    },
    {
     "name": "stderr",
     "output_type": "stream",
     "text": [
      "warning: body not found: 8416626\n"
     ]
    },
    {
     "name": "stdout",
     "output_type": "stream",
     "text": [
      "Scraping page 1995: https://www.renthop.com/listings/sheridan-square/2-a/8715309"
     ]
    },
    {
     "name": "stderr",
     "output_type": "stream",
     "text": [
      "warning: body not found: 8715309\n"
     ]
    },
    {
     "name": "stdout",
     "output_type": "stream",
     "text": [
      "Scraping page 1996: https://www.renthop.com/listings/east-13th-street/3e/8198929"
     ]
    },
    {
     "name": "stderr",
     "output_type": "stream",
     "text": [
      "warning: body not found: 8634519\n"
     ]
    },
    {
     "name": "stdout",
     "output_type": "stream",
     "text": [
      "Scraping page 2004: https://www.renthop.com/listings/astor-pl/3b/8347069"
     ]
    },
    {
     "name": "stderr",
     "output_type": "stream",
     "text": [
      "warning: body not found: 8410657\n"
     ]
    },
    {
     "name": "stdout",
     "output_type": "stream",
     "text": [
      "Scraping page 2013: https://www.renthop.com/listings/west-end-avenue/11-c/8556355"
     ]
    },
    {
     "name": "stderr",
     "output_type": "stream",
     "text": [
      "warning: body not found: 8556355\n"
     ]
    },
    {
     "name": "stdout",
     "output_type": "stream",
     "text": [
      "Scraping page 2022: https://www.renthop.com/listings/west-77th-street/03g/8561846"
     ]
    },
    {
     "name": "stderr",
     "output_type": "stream",
     "text": [
      "warning: body not found: 8761138\n"
     ]
    },
    {
     "name": "stdout",
     "output_type": "stream",
     "text": [
      "Scraping page 2027: https://www.renthop.com/listings/west-31st-street/na/8695762"
     ]
    },
    {
     "name": "stderr",
     "output_type": "stream",
     "text": [
      "warning: body not found: 8760986\n"
     ]
    },
    {
     "name": "stdout",
     "output_type": "stream",
     "text": [
      "Scraping page 2040: https://www.renthop.com/listings/west-11th-street/6-a/8453703"
     ]
    },
    {
     "name": "stderr",
     "output_type": "stream",
     "text": [
      "warning: body not found: 8453703\n"
     ]
    },
    {
     "name": "stdout",
     "output_type": "stream",
     "text": [
      "Scraping page 2070: https://www.renthop.com/listings/e-46th-st/11/7511504"
     ]
    },
    {
     "name": "stderr",
     "output_type": "stream",
     "text": [
      "warning: body not found: 8709789\n"
     ]
    },
    {
     "name": "stdout",
     "output_type": "stream",
     "text": [
      "Scraping page 2071: https://www.renthop.com/listings/east-115th-street/4/8332077"
     ]
    },
    {
     "name": "stderr",
     "output_type": "stream",
     "text": [
      "warning: body not found: 8681752\n"
     ]
    },
    {
     "name": "stdout",
     "output_type": "stream",
     "text": [
      "Scraping page 2089: https://www.renthop.com/listings/seaport-blvd/ph1614/8406353"
     ]
    },
    {
     "name": "stderr",
     "output_type": "stream",
     "text": [
      "warning: body not found: 8633972\n"
     ]
    },
    {
     "name": "stdout",
     "output_type": "stream",
     "text": [
      "Scraping page 2113: https://www.renthop.com/listings/east-116th-street/2-a/8188808"
     ]
    },
    {
     "name": "stderr",
     "output_type": "stream",
     "text": [
      "warning: body not found: 8307152\n"
     ]
    },
    {
     "name": "stdout",
     "output_type": "stream",
     "text": [
      "Scraping page 2126: https://www.renthop.com/listings/38th-st/3r/8657629"
     ]
    },
    {
     "name": "stderr",
     "output_type": "stream",
     "text": [
      "warning: body not found: 8519224\n"
     ]
    },
    {
     "name": "stdout",
     "output_type": "stream",
     "text": [
      "Scraping page 2126: https://www.renthop.com/listings/w-47-st/8t/8732359"
     ]
    },
    {
     "name": "stderr",
     "output_type": "stream",
     "text": [
      "warning: body not found: 8576970\n"
     ]
    },
    {
     "name": "stdout",
     "output_type": "stream",
     "text": [
      "Scraping page 2132: https://www.renthop.com/listings/west-39th-street/ml069/8704985"
     ]
    },
    {
     "name": "stderr",
     "output_type": "stream",
     "text": [
      "warning: body not found: 8746680\n"
     ]
    },
    {
     "name": "stdout",
     "output_type": "stream",
     "text": [
      "Scraping page 2159: https://www.renthop.com/listings/w-21st-st/303/8735122"
     ]
    },
    {
     "name": "stderr",
     "output_type": "stream",
     "text": [
      "warning: body not found: 8314631\n"
     ]
    },
    {
     "name": "stdout",
     "output_type": "stream",
     "text": [
      "Scraping page 2160: https://www.renthop.com/listings/10th-ave/39f/8696612"
     ]
    },
    {
     "name": "stderr",
     "output_type": "stream",
     "text": [
      "warning: body not found: 8453744\n"
     ]
    },
    {
     "name": "stdout",
     "output_type": "stream",
     "text": [
      "Scraping page 2236: https://www.renthop.com/listings/wall-street/1508/8620478"
     ]
    },
    {
     "name": "stderr",
     "output_type": "stream",
     "text": [
      "warning: body not found: 8761493\n"
     ]
    },
    {
     "name": "stdout",
     "output_type": "stream",
     "text": [
      "Scraping page 2292: https://www.renthop.com/listings/e-77-st/na/8708730"
     ]
    },
    {
     "name": "stderr",
     "output_type": "stream",
     "text": [
      "warning: body not found: 8766563\n"
     ]
    },
    {
     "name": "stdout",
     "output_type": "stream",
     "text": [
      "Scraping page 2310: https://www.renthop.com/listings/fifth-avenue/6d/8523849"
     ]
    },
    {
     "name": "stderr",
     "output_type": "stream",
     "text": [
      "warning: body not found: 8767053\n"
     ]
    },
    {
     "name": "stdout",
     "output_type": "stream",
     "text": [
      "Scraping page 2443: https://www.renthop.com/listings/e-54-street/4a/8705808"
     ]
    },
    {
     "name": "stderr",
     "output_type": "stream",
     "text": [
      "warning: body not found: 8733689\n"
     ]
    },
    {
     "name": "stdout",
     "output_type": "stream",
     "text": [
      "Scraping page 2443: https://www.renthop.com/listings/maiden-lane/506/8570902"
     ]
    },
    {
     "name": "stderr",
     "output_type": "stream",
     "text": [
      "warning: body not found: 8734533\n"
     ]
    },
    {
     "name": "stdout",
     "output_type": "stream",
     "text": [
      "Scraping page 2463: https://www.renthop.com/listings/220-w-107th/4d/8721591"
     ]
    },
    {
     "name": "stderr",
     "output_type": "stream",
     "text": [
      "warning: body not found: 8740041\n"
     ]
    },
    {
     "name": "stdout",
     "output_type": "stream",
     "text": [
      "Scraping page https://www.renthop.com/search/nyc?min_price=0&max_price=50000&sort=hopscore&page=3174 \n",
      "Done!\n"
     ]
    },
    {
     "name": "stderr",
     "output_type": "stream",
     "text": [
      "error: incorrect page_input_box value: {} 3173\n"
     ]
    }
   ],
   "source": [
    "URL_RENTHOP = 'https://www.renthop.com/search/nyc?min_price=0&max_price=50000&sort=hopscore&page={}'\n",
    "\n",
    "# Identify old listings\n",
    "\n",
    "seen = set([r['listing_id'] for r in collection.find({}, {'_id':0, 'listing_id':1})])\n",
    "\n",
    "# Scrape new listings\n",
    "\n",
    "for pageno in range(925, 4000):\n",
    "    # Download page\n",
    "\n",
    "    url = URL_RENTHOP.format(pageno)\n",
    "    html_doc = get_page(url, useCache=False)\n",
    "    soup = BeautifulSoup(html_doc, 'lxml')\n",
    "    pp_progress('Scraping page {} '.format(url))\n",
    "\n",
    "    # Verify page number\n",
    "    \n",
    "    page_box = soup.find('input', id='page_input_box')\n",
    "    if page_box['value'] != str(pageno):\n",
    "        print('error: incorrect page_input_box value: {}', page_box['value'], file=sys.stderr)\n",
    "        break\n",
    "\n",
    "    # Find listings\n",
    "\n",
    "    listings_divs = soup.find_all('div', class_='search-listing')\n",
    "    if not listings_divs:\n",
    "        print('error: no listings on page {}'.format(pageno), file=sys.stderr)\n",
    "        break\n",
    "        \n",
    "    # Extract listings\n",
    "    \n",
    "    bulk = collection.initialize_ordered_bulk_op()\n",
    "    for div in listings_divs:\n",
    "        listing_id = int(div['listing_id'])\n",
    "        if listing_id in seen:\n",
    "            continue\n",
    "            \n",
    "        listing = { \n",
    "            'created' : unicode(datetime.datetime.utcnow()).split('.')[0],\n",
    "        }\n",
    "        listing['listing_id'] = listing_id\n",
    "        listing['latitude'] = float(div['latitude'])\n",
    "        listing['longitude'] = float(div['longitude'])\n",
    "        listing['loc'] = Point((listing['longitude'], listing['latitude']))\n",
    "        \n",
    "        title = div.find('a', class_='listing-title-link')\n",
    "        listing['url'] = title['href']\n",
    "        listing['title'] = title.string\n",
    "        \n",
    "        price = div.find(id='listing-{}-price'.format(listing_id))\n",
    "        listing['price'] = int(re.sub('[^0-9]', '', price.string))\n",
    "        \n",
    "        # Extract listing details\n",
    "        \n",
    "        pp_progress('Scraping page {}: {}'.format(pageno, listing['url']))\n",
    "        extract_details(listing)\n",
    "        if 'bedrooms' in listing: # ignore shares\n",
    "            bulk.insert(listing)\n",
    "            seen.add(listing_id)\n",
    "#            time.sleep(0.25)\n",
    "\n",
    "    # Save listings\n",
    "\n",
    "    try:\n",
    "        bulk.execute()\n",
    "        cache_commit()\n",
    "    except pymongo.errors.InvalidOperation as e:\n",
    "        if str(e) == 'No operations to execute':\n",
    "            pass\n",
    "        \n",
    "print('\\nDone!')"
   ]
  },
  {
   "cell_type": "code",
   "execution_count": 434,
   "metadata": {
    "collapsed": false
   },
   "outputs": [
    {
     "name": "stdout",
     "output_type": "stream",
     "text": [
      "217\n"
     ]
    }
   ],
   "source": [
    "import pandas as pd\n",
    "import numpy as np\n",
    "columns = ['listing_id', 'bedrooms', 'bathrooms', 'features', 'price']\n",
    "df = pd.DataFrame(list(collection.find({}, columns)), columns=columns)\n",
    "print(len(df))"
   ]
  },
  {
   "cell_type": "code",
   "execution_count": 444,
   "metadata": {
    "collapsed": false
   },
   "outputs": [
    {
     "data": {
      "text/plain": [
       "95126"
      ]
     },
     "execution_count": 444,
     "metadata": {},
     "output_type": "execute_result"
    }
   ],
   "source": [
    "len(seen)"
   ]
  },
  {
   "cell_type": "code",
   "execution_count": 435,
   "metadata": {
    "collapsed": false
   },
   "outputs": [
    {
     "data": {
      "text/html": [
       "<div>\n",
       "<table border=\"1\" class=\"dataframe\">\n",
       "  <thead>\n",
       "    <tr style=\"text-align: right;\">\n",
       "      <th></th>\n",
       "      <th>listing_id</th>\n",
       "      <th>bedrooms</th>\n",
       "      <th>bathrooms</th>\n",
       "      <th>features</th>\n",
       "      <th>price</th>\n",
       "    </tr>\n",
       "  </thead>\n",
       "  <tbody>\n",
       "    <tr>\n",
       "      <th>71</th>\n",
       "      <td>4017636</td>\n",
       "      <td>2.0</td>\n",
       "      <td>1.0</td>\n",
       "      <td></td>\n",
       "      <td>2500</td>\n",
       "    </tr>\n",
       "    <tr>\n",
       "      <th>76</th>\n",
       "      <td>6361252</td>\n",
       "      <td>1.0</td>\n",
       "      <td>1.0</td>\n",
       "      <td>Cats Allowed\\nDogs Allowed\\nElevator\\nFitness ...</td>\n",
       "      <td>3650</td>\n",
       "    </tr>\n",
       "    <tr>\n",
       "      <th>50</th>\n",
       "      <td>6391866</td>\n",
       "      <td>0.0</td>\n",
       "      <td>1.0</td>\n",
       "      <td>Private Outdoor Space\\nElevator\\nLaundry In Bu...</td>\n",
       "      <td>2295</td>\n",
       "    </tr>\n",
       "    <tr>\n",
       "      <th>180</th>\n",
       "      <td>6469427</td>\n",
       "      <td>1.0</td>\n",
       "      <td>1.0</td>\n",
       "      <td>No Fee\\nElevator\\nLaundry In Building\\nDishwas...</td>\n",
       "      <td>3600</td>\n",
       "    </tr>\n",
       "    <tr>\n",
       "      <th>63</th>\n",
       "      <td>6499842</td>\n",
       "      <td>0.0</td>\n",
       "      <td>1.0</td>\n",
       "      <td>Reduced Fee</td>\n",
       "      <td>1650</td>\n",
       "    </tr>\n",
       "    <tr>\n",
       "      <th>64</th>\n",
       "      <td>6676453</td>\n",
       "      <td>1.0</td>\n",
       "      <td>1.0</td>\n",
       "      <td>Elevator\\nFireplace\\nDishwasher\\nHardwood Floors</td>\n",
       "      <td>2825</td>\n",
       "    </tr>\n",
       "    <tr>\n",
       "      <th>67</th>\n",
       "      <td>6908537</td>\n",
       "      <td>4.0</td>\n",
       "      <td>2.0</td>\n",
       "      <td>Laundry In Unit\\nElevator\\nOWN THE FLOOR\\nGOUR...</td>\n",
       "      <td>6900</td>\n",
       "    </tr>\n",
       "    <tr>\n",
       "      <th>5</th>\n",
       "      <td>7003330</td>\n",
       "      <td>0.0</td>\n",
       "      <td>1.0</td>\n",
       "      <td>Reduced Fee\\nCats Allowed\\nDogs Allowed</td>\n",
       "      <td>1655</td>\n",
       "    </tr>\n",
       "    <tr>\n",
       "      <th>57</th>\n",
       "      <td>7087544</td>\n",
       "      <td>0.0</td>\n",
       "      <td>1.0</td>\n",
       "      <td>Cats Allowed\\nDogs Allowed\\nLaundry In Buildin...</td>\n",
       "      <td>1750</td>\n",
       "    </tr>\n",
       "    <tr>\n",
       "      <th>153</th>\n",
       "      <td>7116578</td>\n",
       "      <td>3.0</td>\n",
       "      <td>1.0</td>\n",
       "      <td>No Fee\\nParking Space\\nCats Allowed\\nDogs Allo...</td>\n",
       "      <td>3600</td>\n",
       "    </tr>\n",
       "    <tr>\n",
       "      <th>103</th>\n",
       "      <td>7294939</td>\n",
       "      <td>1.0</td>\n",
       "      <td>1.0</td>\n",
       "      <td>Pre-War\\nLaundry in Building\\nLaundry in Unit\\...</td>\n",
       "      <td>3495</td>\n",
       "    </tr>\n",
       "    <tr>\n",
       "      <th>97</th>\n",
       "      <td>7333078</td>\n",
       "      <td>1.0</td>\n",
       "      <td>1.0</td>\n",
       "      <td>Swimming Pool\\nRoof Deck\\nDoorman\\nElevator\\nL...</td>\n",
       "      <td>3295</td>\n",
       "    </tr>\n",
       "    <tr>\n",
       "      <th>10</th>\n",
       "      <td>7373982</td>\n",
       "      <td>1.0</td>\n",
       "      <td>1.0</td>\n",
       "      <td>Common Outdoor Space\\nCats Allowed\\nDogs Allow...</td>\n",
       "      <td>2600</td>\n",
       "    </tr>\n",
       "    <tr>\n",
       "      <th>148</th>\n",
       "      <td>7417111</td>\n",
       "      <td>3.0</td>\n",
       "      <td>1.0</td>\n",
       "      <td>Laundry In Unit\\nDishwasher\\nexposed brick\\nab...</td>\n",
       "      <td>5695</td>\n",
       "    </tr>\n",
       "    <tr>\n",
       "      <th>73</th>\n",
       "      <td>7428019</td>\n",
       "      <td>1.0</td>\n",
       "      <td>1.0</td>\n",
       "      <td>No Fee\\nCommon Outdoor Space\\nCats Allowed\\nDo...</td>\n",
       "      <td>3000</td>\n",
       "    </tr>\n",
       "    <tr>\n",
       "      <th>175</th>\n",
       "      <td>7428205</td>\n",
       "      <td>3.0</td>\n",
       "      <td>1.0</td>\n",
       "      <td>No Fee\\nParking Space\\nCats Allowed\\nDogs Allo...</td>\n",
       "      <td>3000</td>\n",
       "    </tr>\n",
       "    <tr>\n",
       "      <th>23</th>\n",
       "      <td>7547436</td>\n",
       "      <td>3.0</td>\n",
       "      <td>3.0</td>\n",
       "      <td>No Fee\\nSwimming Pool\\nRoof Deck\\nDoorman\\nEle...</td>\n",
       "      <td>8702</td>\n",
       "    </tr>\n",
       "    <tr>\n",
       "      <th>168</th>\n",
       "      <td>7641273</td>\n",
       "      <td>3.0</td>\n",
       "      <td>1.0</td>\n",
       "      <td>No Fee\\nCats Allowed\\nDogs Allowed\\nElevator\\n...</td>\n",
       "      <td>3850</td>\n",
       "    </tr>\n",
       "    <tr>\n",
       "      <th>30</th>\n",
       "      <td>7681277</td>\n",
       "      <td>2.0</td>\n",
       "      <td>2.0</td>\n",
       "      <td>No Fee\\nReduced Fee\\nCats Allowed\\nDogs Allowe...</td>\n",
       "      <td>4040</td>\n",
       "    </tr>\n",
       "    <tr>\n",
       "      <th>116</th>\n",
       "      <td>7707428</td>\n",
       "      <td>0.0</td>\n",
       "      <td>1.0</td>\n",
       "      <td>No Fee\\nParking Space\\nCats Allowed\\nDoorman\\n...</td>\n",
       "      <td>2300</td>\n",
       "    </tr>\n",
       "    <tr>\n",
       "      <th>68</th>\n",
       "      <td>7731266</td>\n",
       "      <td>2.0</td>\n",
       "      <td>1.0</td>\n",
       "      <td>Doorman\\nElevator\\nLaundry In Building\\nHUGE 2...</td>\n",
       "      <td>3350</td>\n",
       "    </tr>\n",
       "    <tr>\n",
       "      <th>166</th>\n",
       "      <td>7748042</td>\n",
       "      <td>2.0</td>\n",
       "      <td>1.0</td>\n",
       "      <td>Roof Deck\\nBalcony\\nDoorman\\nElevator\\nFitness...</td>\n",
       "      <td>6845</td>\n",
       "    </tr>\n",
       "    <tr>\n",
       "      <th>15</th>\n",
       "      <td>7748063</td>\n",
       "      <td>3.0</td>\n",
       "      <td>1.0</td>\n",
       "      <td>No Fee\\nExclusive\\nCats Allowed\\nDogs Allowed\\...</td>\n",
       "      <td>2699</td>\n",
       "    </tr>\n",
       "    <tr>\n",
       "      <th>6</th>\n",
       "      <td>7787391</td>\n",
       "      <td>1.0</td>\n",
       "      <td>1.0</td>\n",
       "      <td>Reduced Fee\\nCats Allowed\\nDogs Allowed</td>\n",
       "      <td>1895</td>\n",
       "    </tr>\n",
       "    <tr>\n",
       "      <th>201</th>\n",
       "      <td>7799172</td>\n",
       "      <td>2.0</td>\n",
       "      <td>1.0</td>\n",
       "      <td>No Fee\\nParking Space\\nCats Allowed\\nDogs Allo...</td>\n",
       "      <td>3000</td>\n",
       "    </tr>\n",
       "    <tr>\n",
       "      <th>160</th>\n",
       "      <td>7799174</td>\n",
       "      <td>2.0</td>\n",
       "      <td>1.0</td>\n",
       "      <td>No Fee\\nParking Space\\nCats Allowed\\nDogs Allo...</td>\n",
       "      <td>3000</td>\n",
       "    </tr>\n",
       "    <tr>\n",
       "      <th>33</th>\n",
       "      <td>7820367</td>\n",
       "      <td>0.0</td>\n",
       "      <td>1.0</td>\n",
       "      <td>No Fee\\nCats Allowed\\nDogs Allowed\\nDoorman\\nE...</td>\n",
       "      <td>2300</td>\n",
       "    </tr>\n",
       "    <tr>\n",
       "      <th>22</th>\n",
       "      <td>7836244</td>\n",
       "      <td>2.0</td>\n",
       "      <td>1.0</td>\n",
       "      <td></td>\n",
       "      <td>3400</td>\n",
       "    </tr>\n",
       "    <tr>\n",
       "      <th>204</th>\n",
       "      <td>7907935</td>\n",
       "      <td>2.0</td>\n",
       "      <td>1.0</td>\n",
       "      <td>No Fee\\nCats Allowed\\nDogs Allowed\\nDoorman\\nE...</td>\n",
       "      <td>3069</td>\n",
       "    </tr>\n",
       "    <tr>\n",
       "      <th>12</th>\n",
       "      <td>7908125</td>\n",
       "      <td>0.0</td>\n",
       "      <td>1.0</td>\n",
       "      <td>Reduced Fee\\nCats Allowed\\nDogs Allowed\\nLive ...</td>\n",
       "      <td>2185</td>\n",
       "    </tr>\n",
       "    <tr>\n",
       "      <th>...</th>\n",
       "      <td>...</td>\n",
       "      <td>...</td>\n",
       "      <td>...</td>\n",
       "      <td>...</td>\n",
       "      <td>...</td>\n",
       "    </tr>\n",
       "    <tr>\n",
       "      <th>9</th>\n",
       "      <td>8730121</td>\n",
       "      <td>1.0</td>\n",
       "      <td>1.0</td>\n",
       "      <td>No Fee\\nDoorman\\nElevator\\nPre-War\\nDishwasher...</td>\n",
       "      <td>4155</td>\n",
       "    </tr>\n",
       "    <tr>\n",
       "      <th>44</th>\n",
       "      <td>8730278</td>\n",
       "      <td>1.0</td>\n",
       "      <td>1.0</td>\n",
       "      <td>Doorman\\nElevator\\nPre-War\\nDishwasher\\nExclus...</td>\n",
       "      <td>3440</td>\n",
       "    </tr>\n",
       "    <tr>\n",
       "      <th>59</th>\n",
       "      <td>8730519</td>\n",
       "      <td>0.0</td>\n",
       "      <td>1.0</td>\n",
       "      <td>No Fee\\nDoorman\\nElevator\\nPre-War\\nDishwasher...</td>\n",
       "      <td>2865</td>\n",
       "    </tr>\n",
       "    <tr>\n",
       "      <th>123</th>\n",
       "      <td>8730951</td>\n",
       "      <td>1.0</td>\n",
       "      <td>1.0</td>\n",
       "      <td>No Fee\\nDining Room\\nDoorman\\nElevator\\nFitnes...</td>\n",
       "      <td>4850</td>\n",
       "    </tr>\n",
       "    <tr>\n",
       "      <th>132</th>\n",
       "      <td>8732032</td>\n",
       "      <td>2.0</td>\n",
       "      <td>1.0</td>\n",
       "      <td>No Fee\\nDoorman\\nElevator\\nDishwasher\\nHardwoo...</td>\n",
       "      <td>4450</td>\n",
       "    </tr>\n",
       "    <tr>\n",
       "      <th>137</th>\n",
       "      <td>8732103</td>\n",
       "      <td>1.0</td>\n",
       "      <td>1.0</td>\n",
       "      <td>No Fee\\nElevator\\nLaundry in Building\\nHardwoo...</td>\n",
       "      <td>3725</td>\n",
       "    </tr>\n",
       "    <tr>\n",
       "      <th>41</th>\n",
       "      <td>8734512</td>\n",
       "      <td>4.0</td>\n",
       "      <td>4.0</td>\n",
       "      <td>No Fee\\nFloorplans Available\\nRoof Deck\\nDinin...</td>\n",
       "      <td>7000</td>\n",
       "    </tr>\n",
       "    <tr>\n",
       "      <th>89</th>\n",
       "      <td>8737248</td>\n",
       "      <td>2.0</td>\n",
       "      <td>1.0</td>\n",
       "      <td>No Fee\\nFloorplans Available\\nPrivate Outdoor ...</td>\n",
       "      <td>3400</td>\n",
       "    </tr>\n",
       "    <tr>\n",
       "      <th>74</th>\n",
       "      <td>8738371</td>\n",
       "      <td>3.0</td>\n",
       "      <td>2.0</td>\n",
       "      <td>No Fee\\nprivate-outdoor-space\\npatio\\nDoorman\\...</td>\n",
       "      <td>5195</td>\n",
       "    </tr>\n",
       "    <tr>\n",
       "      <th>191</th>\n",
       "      <td>8740495</td>\n",
       "      <td>2.0</td>\n",
       "      <td>1.0</td>\n",
       "      <td>Cats Allowed\\nDogs Allowed\\nPre-War\\nHardwood ...</td>\n",
       "      <td>3550</td>\n",
       "    </tr>\n",
       "    <tr>\n",
       "      <th>192</th>\n",
       "      <td>8742691</td>\n",
       "      <td>1.0</td>\n",
       "      <td>1.0</td>\n",
       "      <td>Pre-War\\nDishwasher\\nHardwood Floors</td>\n",
       "      <td>3495</td>\n",
       "    </tr>\n",
       "    <tr>\n",
       "      <th>195</th>\n",
       "      <td>8742846</td>\n",
       "      <td>2.0</td>\n",
       "      <td>1.0</td>\n",
       "      <td>Cats Allowed\\nDogs Allowed\\nDoorman\\nElevator\\...</td>\n",
       "      <td>3900</td>\n",
       "    </tr>\n",
       "    <tr>\n",
       "      <th>213</th>\n",
       "      <td>8742996</td>\n",
       "      <td>2.0</td>\n",
       "      <td>1.0</td>\n",
       "      <td>Cats Allowed\\nDogs Allowed\\nPre-War\\nHardwood ...</td>\n",
       "      <td>3575</td>\n",
       "    </tr>\n",
       "    <tr>\n",
       "      <th>49</th>\n",
       "      <td>8743381</td>\n",
       "      <td>1.0</td>\n",
       "      <td>1.0</td>\n",
       "      <td>Floorplans Available\\nDoorman\\nElevator\\nFitne...</td>\n",
       "      <td>3690</td>\n",
       "    </tr>\n",
       "    <tr>\n",
       "      <th>179</th>\n",
       "      <td>8743386</td>\n",
       "      <td>2.0</td>\n",
       "      <td>1.0</td>\n",
       "      <td>Cats Allowed\\nDogs Allowed\\nElevator\\nPre-War\\...</td>\n",
       "      <td>3750</td>\n",
       "    </tr>\n",
       "    <tr>\n",
       "      <th>130</th>\n",
       "      <td>8743419</td>\n",
       "      <td>1.0</td>\n",
       "      <td>1.0</td>\n",
       "      <td>No Fee\\nCats Allowed\\nDogs Allowed\\nDoorman\\nE...</td>\n",
       "      <td>4083</td>\n",
       "    </tr>\n",
       "    <tr>\n",
       "      <th>61</th>\n",
       "      <td>8743528</td>\n",
       "      <td>1.0</td>\n",
       "      <td>1.0</td>\n",
       "      <td>Floorplans Available\\nDoorman\\nElevator\\nFitne...</td>\n",
       "      <td>3895</td>\n",
       "    </tr>\n",
       "    <tr>\n",
       "      <th>211</th>\n",
       "      <td>8743593</td>\n",
       "      <td>1.0</td>\n",
       "      <td>1.0</td>\n",
       "      <td>Pre-War\\nLaundry in Building\\nDishwasher\\nHard...</td>\n",
       "      <td>2252</td>\n",
       "    </tr>\n",
       "    <tr>\n",
       "      <th>208</th>\n",
       "      <td>8743615</td>\n",
       "      <td>0.0</td>\n",
       "      <td>1.0</td>\n",
       "      <td>Cats Allowed\\nDogs Allowed\\nDoorman\\nLaundry i...</td>\n",
       "      <td>2325</td>\n",
       "    </tr>\n",
       "    <tr>\n",
       "      <th>164</th>\n",
       "      <td>8743685</td>\n",
       "      <td>1.0</td>\n",
       "      <td>1.0</td>\n",
       "      <td>No Fee\\nDoorman\\nElevator\\nFitness Center\\nPre...</td>\n",
       "      <td>5375</td>\n",
       "    </tr>\n",
       "    <tr>\n",
       "      <th>127</th>\n",
       "      <td>8743724</td>\n",
       "      <td>2.0</td>\n",
       "      <td>1.0</td>\n",
       "      <td>Elevator\\nPre-War\\nLaundry in Unit\\nDishwasher...</td>\n",
       "      <td>5750</td>\n",
       "    </tr>\n",
       "    <tr>\n",
       "      <th>141</th>\n",
       "      <td>8743784</td>\n",
       "      <td>1.0</td>\n",
       "      <td>1.0</td>\n",
       "      <td>Cats Allowed\\nDogs Allowed\\nPre-War\\nHardwood ...</td>\n",
       "      <td>3395</td>\n",
       "    </tr>\n",
       "    <tr>\n",
       "      <th>107</th>\n",
       "      <td>8744601</td>\n",
       "      <td>4.0</td>\n",
       "      <td>2.0</td>\n",
       "      <td>No Fee\\nPrivate Outdoor Space\\nParking Space\\n...</td>\n",
       "      <td>6400</td>\n",
       "    </tr>\n",
       "    <tr>\n",
       "      <th>198</th>\n",
       "      <td>8744956</td>\n",
       "      <td>2.0</td>\n",
       "      <td>2.0</td>\n",
       "      <td>Elevator\\nLaundry In Building</td>\n",
       "      <td>4200</td>\n",
       "    </tr>\n",
       "    <tr>\n",
       "      <th>210</th>\n",
       "      <td>8748151</td>\n",
       "      <td>1.0</td>\n",
       "      <td>1.0</td>\n",
       "      <td>Cats Allowed\\nDogs Allowed\\nPre-War\\nHardwood ...</td>\n",
       "      <td>2595</td>\n",
       "    </tr>\n",
       "    <tr>\n",
       "      <th>45</th>\n",
       "      <td>8752411</td>\n",
       "      <td>0.0</td>\n",
       "      <td>1.0</td>\n",
       "      <td>No Fee</td>\n",
       "      <td>2200</td>\n",
       "    </tr>\n",
       "    <tr>\n",
       "      <th>62</th>\n",
       "      <td>8752686</td>\n",
       "      <td>0.0</td>\n",
       "      <td>1.0</td>\n",
       "      <td>No Fee</td>\n",
       "      <td>2150</td>\n",
       "    </tr>\n",
       "    <tr>\n",
       "      <th>93</th>\n",
       "      <td>8753443</td>\n",
       "      <td>0.0</td>\n",
       "      <td>1.0</td>\n",
       "      <td>Elevator\\nLaundry in Building\\nDishwasher\\nHar...</td>\n",
       "      <td>2200</td>\n",
       "    </tr>\n",
       "    <tr>\n",
       "      <th>146</th>\n",
       "      <td>8765410</td>\n",
       "      <td>1.0</td>\n",
       "      <td>1.0</td>\n",
       "      <td>No Fee\\nCats Allowed\\nDoorman\\nElevator\\nFitne...</td>\n",
       "      <td>2999</td>\n",
       "    </tr>\n",
       "    <tr>\n",
       "      <th>143</th>\n",
       "      <td>8769586</td>\n",
       "      <td>0.0</td>\n",
       "      <td>1.0</td>\n",
       "      <td>Guarantors Accepted\\nHeat and Hot water includ...</td>\n",
       "      <td>1450</td>\n",
       "    </tr>\n",
       "  </tbody>\n",
       "</table>\n",
       "<p>217 rows × 5 columns</p>\n",
       "</div>"
      ],
      "text/plain": [
       "     listing_id  bedrooms  bathrooms  \\\n",
       "71      4017636       2.0        1.0   \n",
       "76      6361252       1.0        1.0   \n",
       "50      6391866       0.0        1.0   \n",
       "180     6469427       1.0        1.0   \n",
       "63      6499842       0.0        1.0   \n",
       "64      6676453       1.0        1.0   \n",
       "67      6908537       4.0        2.0   \n",
       "5       7003330       0.0        1.0   \n",
       "57      7087544       0.0        1.0   \n",
       "153     7116578       3.0        1.0   \n",
       "103     7294939       1.0        1.0   \n",
       "97      7333078       1.0        1.0   \n",
       "10      7373982       1.0        1.0   \n",
       "148     7417111       3.0        1.0   \n",
       "73      7428019       1.0        1.0   \n",
       "175     7428205       3.0        1.0   \n",
       "23      7547436       3.0        3.0   \n",
       "168     7641273       3.0        1.0   \n",
       "30      7681277       2.0        2.0   \n",
       "116     7707428       0.0        1.0   \n",
       "68      7731266       2.0        1.0   \n",
       "166     7748042       2.0        1.0   \n",
       "15      7748063       3.0        1.0   \n",
       "6       7787391       1.0        1.0   \n",
       "201     7799172       2.0        1.0   \n",
       "160     7799174       2.0        1.0   \n",
       "33      7820367       0.0        1.0   \n",
       "22      7836244       2.0        1.0   \n",
       "204     7907935       2.0        1.0   \n",
       "12      7908125       0.0        1.0   \n",
       "..          ...       ...        ...   \n",
       "9       8730121       1.0        1.0   \n",
       "44      8730278       1.0        1.0   \n",
       "59      8730519       0.0        1.0   \n",
       "123     8730951       1.0        1.0   \n",
       "132     8732032       2.0        1.0   \n",
       "137     8732103       1.0        1.0   \n",
       "41      8734512       4.0        4.0   \n",
       "89      8737248       2.0        1.0   \n",
       "74      8738371       3.0        2.0   \n",
       "191     8740495       2.0        1.0   \n",
       "192     8742691       1.0        1.0   \n",
       "195     8742846       2.0        1.0   \n",
       "213     8742996       2.0        1.0   \n",
       "49      8743381       1.0        1.0   \n",
       "179     8743386       2.0        1.0   \n",
       "130     8743419       1.0        1.0   \n",
       "61      8743528       1.0        1.0   \n",
       "211     8743593       1.0        1.0   \n",
       "208     8743615       0.0        1.0   \n",
       "164     8743685       1.0        1.0   \n",
       "127     8743724       2.0        1.0   \n",
       "141     8743784       1.0        1.0   \n",
       "107     8744601       4.0        2.0   \n",
       "198     8744956       2.0        2.0   \n",
       "210     8748151       1.0        1.0   \n",
       "45      8752411       0.0        1.0   \n",
       "62      8752686       0.0        1.0   \n",
       "93      8753443       0.0        1.0   \n",
       "146     8765410       1.0        1.0   \n",
       "143     8769586       0.0        1.0   \n",
       "\n",
       "                                              features  price  \n",
       "71                                                       2500  \n",
       "76   Cats Allowed\\nDogs Allowed\\nElevator\\nFitness ...   3650  \n",
       "50   Private Outdoor Space\\nElevator\\nLaundry In Bu...   2295  \n",
       "180  No Fee\\nElevator\\nLaundry In Building\\nDishwas...   3600  \n",
       "63                                         Reduced Fee   1650  \n",
       "64    Elevator\\nFireplace\\nDishwasher\\nHardwood Floors   2825  \n",
       "67   Laundry In Unit\\nElevator\\nOWN THE FLOOR\\nGOUR...   6900  \n",
       "5              Reduced Fee\\nCats Allowed\\nDogs Allowed   1655  \n",
       "57   Cats Allowed\\nDogs Allowed\\nLaundry In Buildin...   1750  \n",
       "153  No Fee\\nParking Space\\nCats Allowed\\nDogs Allo...   3600  \n",
       "103  Pre-War\\nLaundry in Building\\nLaundry in Unit\\...   3495  \n",
       "97   Swimming Pool\\nRoof Deck\\nDoorman\\nElevator\\nL...   3295  \n",
       "10   Common Outdoor Space\\nCats Allowed\\nDogs Allow...   2600  \n",
       "148  Laundry In Unit\\nDishwasher\\nexposed brick\\nab...   5695  \n",
       "73   No Fee\\nCommon Outdoor Space\\nCats Allowed\\nDo...   3000  \n",
       "175  No Fee\\nParking Space\\nCats Allowed\\nDogs Allo...   3000  \n",
       "23   No Fee\\nSwimming Pool\\nRoof Deck\\nDoorman\\nEle...   8702  \n",
       "168  No Fee\\nCats Allowed\\nDogs Allowed\\nElevator\\n...   3850  \n",
       "30   No Fee\\nReduced Fee\\nCats Allowed\\nDogs Allowe...   4040  \n",
       "116  No Fee\\nParking Space\\nCats Allowed\\nDoorman\\n...   2300  \n",
       "68   Doorman\\nElevator\\nLaundry In Building\\nHUGE 2...   3350  \n",
       "166  Roof Deck\\nBalcony\\nDoorman\\nElevator\\nFitness...   6845  \n",
       "15   No Fee\\nExclusive\\nCats Allowed\\nDogs Allowed\\...   2699  \n",
       "6              Reduced Fee\\nCats Allowed\\nDogs Allowed   1895  \n",
       "201  No Fee\\nParking Space\\nCats Allowed\\nDogs Allo...   3000  \n",
       "160  No Fee\\nParking Space\\nCats Allowed\\nDogs Allo...   3000  \n",
       "33   No Fee\\nCats Allowed\\nDogs Allowed\\nDoorman\\nE...   2300  \n",
       "22                                                       3400  \n",
       "204  No Fee\\nCats Allowed\\nDogs Allowed\\nDoorman\\nE...   3069  \n",
       "12   Reduced Fee\\nCats Allowed\\nDogs Allowed\\nLive ...   2185  \n",
       "..                                                 ...    ...  \n",
       "9    No Fee\\nDoorman\\nElevator\\nPre-War\\nDishwasher...   4155  \n",
       "44   Doorman\\nElevator\\nPre-War\\nDishwasher\\nExclus...   3440  \n",
       "59   No Fee\\nDoorman\\nElevator\\nPre-War\\nDishwasher...   2865  \n",
       "123  No Fee\\nDining Room\\nDoorman\\nElevator\\nFitnes...   4850  \n",
       "132  No Fee\\nDoorman\\nElevator\\nDishwasher\\nHardwoo...   4450  \n",
       "137  No Fee\\nElevator\\nLaundry in Building\\nHardwoo...   3725  \n",
       "41   No Fee\\nFloorplans Available\\nRoof Deck\\nDinin...   7000  \n",
       "89   No Fee\\nFloorplans Available\\nPrivate Outdoor ...   3400  \n",
       "74   No Fee\\nprivate-outdoor-space\\npatio\\nDoorman\\...   5195  \n",
       "191  Cats Allowed\\nDogs Allowed\\nPre-War\\nHardwood ...   3550  \n",
       "192               Pre-War\\nDishwasher\\nHardwood Floors   3495  \n",
       "195  Cats Allowed\\nDogs Allowed\\nDoorman\\nElevator\\...   3900  \n",
       "213  Cats Allowed\\nDogs Allowed\\nPre-War\\nHardwood ...   3575  \n",
       "49   Floorplans Available\\nDoorman\\nElevator\\nFitne...   3690  \n",
       "179  Cats Allowed\\nDogs Allowed\\nElevator\\nPre-War\\...   3750  \n",
       "130  No Fee\\nCats Allowed\\nDogs Allowed\\nDoorman\\nE...   4083  \n",
       "61   Floorplans Available\\nDoorman\\nElevator\\nFitne...   3895  \n",
       "211  Pre-War\\nLaundry in Building\\nDishwasher\\nHard...   2252  \n",
       "208  Cats Allowed\\nDogs Allowed\\nDoorman\\nLaundry i...   2325  \n",
       "164  No Fee\\nDoorman\\nElevator\\nFitness Center\\nPre...   5375  \n",
       "127  Elevator\\nPre-War\\nLaundry in Unit\\nDishwasher...   5750  \n",
       "141  Cats Allowed\\nDogs Allowed\\nPre-War\\nHardwood ...   3395  \n",
       "107  No Fee\\nPrivate Outdoor Space\\nParking Space\\n...   6400  \n",
       "198                      Elevator\\nLaundry In Building   4200  \n",
       "210  Cats Allowed\\nDogs Allowed\\nPre-War\\nHardwood ...   2595  \n",
       "45                                              No Fee   2200  \n",
       "62                                              No Fee   2150  \n",
       "93   Elevator\\nLaundry in Building\\nDishwasher\\nHar...   2200  \n",
       "146  No Fee\\nCats Allowed\\nDoorman\\nElevator\\nFitne...   2999  \n",
       "143  Guarantors Accepted\\nHeat and Hot water includ...   1450  \n",
       "\n",
       "[217 rows x 5 columns]"
      ]
     },
     "execution_count": 435,
     "metadata": {},
     "output_type": "execute_result"
    }
   ],
   "source": [
    "df.sort_values(by='listing_id')"
   ]
  },
  {
   "cell_type": "code",
   "execution_count": 414,
   "metadata": {
    "collapsed": false
   },
   "outputs": [],
   "source": [
    "collection.drop()"
   ]
  },
  {
   "cell_type": "code",
   "execution_count": null,
   "metadata": {
    "collapsed": true
   },
   "outputs": [],
   "source": []
  }
 ],
 "metadata": {
  "anaconda-cloud": {},
  "kernelspec": {
   "display_name": "Python [default]",
   "language": "python",
   "name": "python2"
  },
  "language_info": {
   "codemirror_mode": {
    "name": "ipython",
    "version": 2
   },
   "file_extension": ".py",
   "mimetype": "text/x-python",
   "name": "python",
   "nbconvert_exporter": "python",
   "pygments_lexer": "ipython2",
   "version": "2.7.12"
  }
 },
 "nbformat": 4,
 "nbformat_minor": 1
}
