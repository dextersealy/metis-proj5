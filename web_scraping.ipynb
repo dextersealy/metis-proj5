{
 "cells": [
  {
   "cell_type": "markdown",
   "metadata": {},
   "source": [
    "## Objective"
   ]
  },
  {
   "cell_type": "markdown",
   "metadata": {},
   "source": [
    "**Predict the price of a New York City apartment.**\n",
    "\n",
    "This project originally used data from renthop.com, an apartment listing website, provided by a Kagggle competition. This notebook scraps the listings directly from renthop.com."
   ]
  },
  {
   "cell_type": "code",
   "execution_count": 2,
   "metadata": {
    "collapsed": true
   },
   "outputs": [],
   "source": [
    "from __future__ import print_function, division"
   ]
  },
  {
   "cell_type": "code",
   "execution_count": 2,
   "metadata": {
    "collapsed": true
   },
   "outputs": [],
   "source": [
    "import random\n",
    "import uuid\n",
    "import os\n",
    "import sys"
   ]
  },
  {
   "cell_type": "markdown",
   "metadata": {},
   "source": [
    "### Helper Functions"
   ]
  },
  {
   "cell_type": "markdown",
   "metadata": {},
   "source": [
    "Import functions for creating nicely formatted output."
   ]
  },
  {
   "cell_type": "code",
   "execution_count": 3,
   "metadata": {
    "collapsed": true
   },
   "outputs": [],
   "source": [
    "# %load 'utils.py'\n",
    "from IPython.display import display, HTML\n",
    "\n",
    "def pp_bold(str):\n",
    "    display(HTML('<b>{}</b>'.format(str)))\n",
    "\n",
    "\n",
    "def pp_listOflist(l):\n",
    "    display(HTML(\n",
    "        u'<table>{}</table>'.format(\n",
    "            u''.join(u'<tr>{}</tr>'.format(\n",
    "                u''.join(u'<td>{}</td>'.format(v) for v in sublist)) for sublist in l))))\n",
    "    \n",
    "\n",
    "def pp_dict(d, rows=None):\n",
    "    if not rows or rows >= len(d):\n",
    "        display(HTML(\n",
    "            u'<table>{}</table>'.format(\n",
    "                u''.join(u'<tr><td><b>{}</b></td><td>{}</td></tr>'.format(k, d[k]) for k in d))))\n",
    "    else:\n",
    "        nitems = len(d)\n",
    "        width = -(-nitems // rows)\n",
    "        i = 0\n",
    "        list_ = [[] for _ in range(rows)]\n",
    "        for _ in range(width):\n",
    "            for row in range(rows):\n",
    "                if i < nitems:\n",
    "                    k, v = d.items()[i]\n",
    "                    list_[row].extend(['<b>{}</b>'.format(k), v])\n",
    "                i += 1\n",
    "        pp_listOflist(list_)\n",
    "\n",
    "\n",
    "def pp_dictOflist(d):\n",
    "    display(HTML(\n",
    "        u'<table>{}</table>'.format(\n",
    "            u''.join(u'<tr><td><b>{}</b></td>{}</tr>'.format(k,\n",
    "                u''.join(u'<td>{}</td>'.format(v) for v in d[k])) for k in d.keys()))))\n",
    "    \n",
    "\n",
    "def pp_dfinfo(df, width=4):\n",
    "    ncols = len(df.columns)\n",
    "    width = min(width, ncols)\n",
    "    depth = -(-ncols // width)\n",
    "    i = 0\n",
    "    list_ = [[] for _ in range(depth)]\n",
    "    for _ in range(width):\n",
    "        for row in range(depth):\n",
    "            if i < ncols:\n",
    "                col = df.columns[i]\n",
    "                list_[row].extend(['<b>{}</b>'.format(col), df[col].count(), df.dtypes[i]])\n",
    "            i += 1\n",
    "\n",
    "    print('{} entries, {} columns'.format(len(df), ncols))\n",
    "    pp_listOflist(list_)\n",
    "\n",
    "\n",
    "def pp_counts(series, rows=1, caption=None):\n",
    "    if caption: pp_bold(caption)\n",
    "    list_ = [(k, '{:.4f}'.format(v)) for k, v in series.to_dict().items()] \n",
    "    dict_ = OrderedDict(sorted(list_, key=lambda x: x[0]))\n",
    "    pp_dict(dict_, rows)\n",
    "\n",
    "\n",
    "def pp_progress(s):\n",
    "    sys.stdout.write('\\r{}'.format(s))\n",
    "    sys.stdout.flush()\n"
   ]
  },
  {
   "cell_type": "markdown",
   "metadata": {},
   "source": [
    "Implement simple web page cache."
   ]
  },
  {
   "cell_type": "code",
   "execution_count": 26,
   "metadata": {
    "collapsed": true
   },
   "outputs": [],
   "source": [
    "import os\n",
    "import pickle\n",
    "import requests\n",
    "\n",
    "_cache = None\n",
    "_cache_dir = \"./cache\"\n",
    "_cache_index = os.path.join(_cache_dir, 'index.pkl')\n",
    "_cache_counter = 0\n",
    "\n",
    "def cache_init():\n",
    "    global _cache\n",
    "    if _cache == None:\n",
    "        if os.path.exists(_cache_index):\n",
    "            with open(_cache_index, 'rb') as fd:\n",
    "                _cache = pickle.load(fd)\n",
    "        else:\n",
    "            _cache = {}\n",
    "    return _cache\n",
    "\n",
    "def cache_get(key):\n",
    "    return cache_init().get(key, '')\n",
    "\n",
    "def cache_add(key, value):\n",
    "    global _cache_counter\n",
    "    cache = cache_init()\n",
    "    cache[key] = value\n",
    "    _cache_counter += 1\n",
    "    if _cache_counter % 100 == 0:\n",
    "        cache_commit()\n",
    "\n",
    "def cache_commit():\n",
    "    if not _cache == None:\n",
    "        with open(_cache_index, 'wb') as fd:\n",
    "            pickle.dump(_cache, fd)"
   ]
  },
  {
   "cell_type": "code",
   "execution_count": 437,
   "metadata": {
    "collapsed": false
   },
   "outputs": [],
   "source": [
    "def get_page(url, useCache=True):\n",
    "    \"\"\"Get a web page.\"\"\"\n",
    "\n",
    "    # Check if we have this page\n",
    "    \n",
    "    filename = cache_get(url)\n",
    "    if useCache and filename and os.path.exists(filename):\n",
    "        with open(filename, 'rb') as fd:\n",
    "            return fd.read()\n",
    "\n",
    "    # Otherwise, download the page ...\n",
    "    \n",
    "    r = requests.get(url, timeout=10)\n",
    "    r.raise_for_status()\n",
    "    \n",
    "    # ... and cache it\n",
    "\n",
    "    global _cache_dir\n",
    "    if not os.path.isdir(_cache_dir):\n",
    "        os.mkdir(_cache_dir)\n",
    "        \n",
    "    if not filename:\n",
    "        filename = os.path.join(_cache_dir, uuid.uuid4().hex + '.html')\n",
    "\n",
    "    with open(filename, 'wb') as fd:\n",
    "        for chunk in r.iter_content(chunk_size=4096):\n",
    "            fd.write(chunk)\n",
    "\n",
    "    cache_add(url, filename)\n",
    "    \n",
    "    return r.text"
   ]
  },
  {
   "cell_type": "code",
   "execution_count": 422,
   "metadata": {
    "collapsed": true
   },
   "outputs": [],
   "source": [
    "import datetime\n",
    "import re\n",
    "import time\n",
    "from bs4 import BeautifulSoup\n",
    "from geojson import Point"
   ]
  },
  {
   "cell_type": "markdown",
   "metadata": {},
   "source": [
    "### Web Scraping"
   ]
  },
  {
   "cell_type": "markdown",
   "metadata": {},
   "source": [
    "Connect to the MongoDB database."
   ]
  },
  {
   "cell_type": "code",
   "execution_count": 439,
   "metadata": {
    "collapsed": false
   },
   "outputs": [
    {
     "data": {
      "text/html": [
       "<b>53800 listings</b>"
      ],
      "text/plain": [
       "<IPython.core.display.HTML object>"
      ]
     },
     "metadata": {},
     "output_type": "display_data"
    }
   ],
   "source": [
    "import pymongo\n",
    "client = pymongo.MongoClient('ec2-34-198-246-43.compute-1.amazonaws.com', 27017)\n",
    "db = client.renthop2\n",
    "collection = db.listings\n",
    "pp_bold('{} listings'.format(collection.count()))"
   ]
  },
  {
   "cell_type": "markdown",
   "metadata": {},
   "source": [
    "Scrape the pages and add new listings."
   ]
  },
  {
   "cell_type": "code",
   "execution_count": 440,
   "metadata": {
    "collapsed": false
   },
   "outputs": [],
   "source": [
    "def extract_details(listing):\n",
    "    html_doc = get_page(listing['url'])\n",
    "    soup = BeautifulSoup(html_doc, 'lxml')\n",
    "    body = soup.find(id='listing-details-body-premap')\n",
    "    if not body:\n",
    "        print('warning: body not found: {}'.format(listing['url']), file=sys.stderr)\n",
    "        return\n",
    "\n",
    "    for div in body.find_all('div', recursive=False):\n",
    "        desc = div.find('div', id='description')\n",
    "        if desc:\n",
    "            listing['description'] = desc.find_next_sibling().text.strip()\n",
    "            continue\n",
    "\n",
    "        features_div = div.find('div', text=re.compile('Features & Amenities'))\n",
    "        if features_div:\n",
    "            features = []\n",
    "            for div in features_div.find_next_sibling().find_all('div'):\n",
    "                table = div.find('table')\n",
    "                if table:\n",
    "                    feature = table.tr.find_all('td')[1].text.strip()\n",
    "                    if 'Featured' != feature:\n",
    "                        features.append(feature)\n",
    "            listing['features'] = '\\n'.join(features)\n",
    "            continue\n",
    "\n",
    "        for table in div.find_all('table'):\n",
    "            for tr in table.find_all('tr'):\n",
    "                for td in tr.find_all('td'):\n",
    "                    if 'Studio' in td.text:\n",
    "                        listing['bedrooms'] = 0.0\n",
    "                    elif 'Bed' in td.text:\n",
    "                        listing['bedrooms'] = float(td.text.strip().split()[0])\n",
    "                    elif 'Bath' in td.text:\n",
    "                        listing['bathrooms'] = float(td.text.strip().split()[0])\n"
   ]
  },
  {
   "cell_type": "code",
   "execution_count": 443,
   "metadata": {
    "collapsed": false
   },
   "outputs": [
    {
     "name": "stdout",
     "output_type": "stream",
     "text": [
      "Scraping page 1383: https://www.renthop.com/listings/east-16th-street/6p/8661183"
     ]
    },
    {
     "name": "stderr",
     "output_type": "stream",
     "text": [
      "warning: body not found: 8614710\n"
     ]
    },
    {
     "name": "stdout",
     "output_type": "stream",
     "text": [
      "Scraping page 1432: https://www.renthop.com/listings/classon/15l/8740631"
     ]
    },
    {
     "name": "stderr",
     "output_type": "stream",
     "text": [
      "warning: body not found: 8740631\n"
     ]
    },
    {
     "name": "stdout",
     "output_type": "stream",
     "text": [
      "Scraping page 1433: https://www.renthop.com/listings/west-65th-street/4a/8348997"
     ]
    },
    {
     "name": "stderr",
     "output_type": "stream",
     "text": [
      "warning: body not found: 8602202\n"
     ]
    },
    {
     "name": "stdout",
     "output_type": "stream",
     "text": [
      "Scraping page 1516: https://www.renthop.com/listings/dahill-road/5t/8503853"
     ]
    },
    {
     "name": "stderr",
     "output_type": "stream",
     "text": [
      "warning: body not found: 8592197\n"
     ]
    },
    {
     "name": "stdout",
     "output_type": "stream",
     "text": [
      "Scraping page 1556: https://www.renthop.com/listings/31st-street/3b/8695181"
     ]
    },
    {
     "name": "stderr",
     "output_type": "stream",
     "text": [
      "warning: body not found: 8695181\n"
     ]
    },
    {
     "name": "stdout",
     "output_type": "stream",
     "text": [
      "Scraping page 1563: https://www.renthop.com/listings/west-26th-street/808/8448910"
     ]
    },
    {
     "name": "stderr",
     "output_type": "stream",
     "text": [
      "warning: body not found: 8503926\n"
     ]
    },
    {
     "name": "stdout",
     "output_type": "stream",
     "text": [
      "Scraping page 1794: https://www.renthop.com/listings/hancock-st/e/8642212"
     ]
    },
    {
     "name": "stderr",
     "output_type": "stream",
     "text": [
      "warning: body not found: 8755972\n"
     ]
    },
    {
     "name": "stdout",
     "output_type": "stream",
     "text": [
      "Scraping page 1860: https://www.renthop.com/listings/east-71st-street/jp87/8706783"
     ]
    },
    {
     "name": "stderr",
     "output_type": "stream",
     "text": [
      "warning: body not found: 8730031\n"
     ]
    },
    {
     "name": "stdout",
     "output_type": "stream",
     "text": [
      "Scraping page 1878: https://www.renthop.com/listings/e-4th-st/1/8633639"
     ]
    },
    {
     "name": "stderr",
     "output_type": "stream",
     "text": [
      "warning: body not found: 8442880\n"
     ]
    },
    {
     "name": "stdout",
     "output_type": "stream",
     "text": [
      "Scraping page 1892: https://www.renthop.com/listings/staniford-st/3404/8106016"
     ]
    },
    {
     "name": "stderr",
     "output_type": "stream",
     "text": [
      "warning: body not found: 8701643\n"
     ]
    },
    {
     "name": "stdout",
     "output_type": "stream",
     "text": [
      "Scraping page 1895: https://www.renthop.com/listings/63rd-st-3rd-ave/425/8546362"
     ]
    },
    {
     "name": "stderr",
     "output_type": "stream",
     "text": [
      "warning: body not found: 8449504\n"
     ]
    },
    {
     "name": "stdout",
     "output_type": "stream",
     "text": [
      "Scraping page 1904: https://www.renthop.com/listings/hancock-street/1j/8602189"
     ]
    },
    {
     "name": "stderr",
     "output_type": "stream",
     "text": [
      "warning: body not found: 8739229\n"
     ]
    },
    {
     "name": "stdout",
     "output_type": "stream",
     "text": [
      "Scraping page 1909: https://www.renthop.com/listings/east-32nd-street/6-a/8448596"
     ]
    },
    {
     "name": "stderr",
     "output_type": "stream",
     "text": [
      "warning: body not found: 8448596\n"
     ]
    },
    {
     "name": "stdout",
     "output_type": "stream",
     "text": [
      "Scraping page 1912: https://www.renthop.com/listings/west-43rd-street/na/8592951"
     ]
    },
    {
     "name": "stderr",
     "output_type": "stream",
     "text": [
      "warning: body not found: 8616674\n"
     ]
    },
    {
     "name": "stdout",
     "output_type": "stream",
     "text": [
      "Scraping page 1925: https://www.renthop.com/listings/mott-street/4n/8341585"
     ]
    },
    {
     "name": "stderr",
     "output_type": "stream",
     "text": [
      "warning: body not found: 8739371\n"
     ]
    },
    {
     "name": "stdout",
     "output_type": "stream",
     "text": [
      "Scraping page 1957: https://www.renthop.com/listings/e-37th-st/52/7401877"
     ]
    },
    {
     "name": "stderr",
     "output_type": "stream",
     "text": [
      "warning: body not found: 8447079\n"
     ]
    },
    {
     "name": "stdout",
     "output_type": "stream",
     "text": [
      "Scraping page 1958: https://www.renthop.com/listings/kneeland-st/1907/8220130"
     ]
    },
    {
     "name": "stderr",
     "output_type": "stream",
     "text": [
      "warning: body not found: 8634906\n"
     ]
    },
    {
     "name": "stdout",
     "output_type": "stream",
     "text": [
      "Scraping page 1969: https://www.renthop.com/listings/30th-street/4-a/8618726"
     ]
    },
    {
     "name": "stderr",
     "output_type": "stream",
     "text": [
      "warning: body not found: 8634789\n"
     ]
    },
    {
     "name": "stdout",
     "output_type": "stream",
     "text": [
      "Scraping page 1973: https://www.renthop.com/listings/east-37th-street/1aw/8723937"
     ]
    },
    {
     "name": "stderr",
     "output_type": "stream",
     "text": [
      "warning: body not found: 8657865\n"
     ]
    },
    {
     "name": "stdout",
     "output_type": "stream",
     "text": [
      "Scraping page 1988: https://www.renthop.com/listings/eighth-avenue/4a/8688425"
     ]
    },
    {
     "name": "stderr",
     "output_type": "stream",
     "text": [
      "warning: body not found: 8760565\n"
     ]
    },
    {
     "name": "stdout",
     "output_type": "stream",
     "text": [
      "Scraping page 1989: https://www.renthop.com/listings/washington-st/2009/8253649"
     ]
    },
    {
     "name": "stderr",
     "output_type": "stream",
     "text": [
      "warning: body not found: 8670750\n"
     ]
    },
    {
     "name": "stdout",
     "output_type": "stream",
     "text": [
      "Scraping page 1991: https://www.renthop.com/listings/807-halsey-street/3/7991740"
     ]
    },
    {
     "name": "stderr",
     "output_type": "stream",
     "text": [
      "warning: body not found: 8634355\n"
     ]
    },
    {
     "name": "stdout",
     "output_type": "stream",
     "text": [
      "Scraping page 1993: https://www.renthop.com/listings/nashua-st/2902/8401702"
     ]
    },
    {
     "name": "stderr",
     "output_type": "stream",
     "text": [
      "warning: body not found: 8416626\n"
     ]
    },
    {
     "name": "stdout",
     "output_type": "stream",
     "text": [
      "Scraping page 1995: https://www.renthop.com/listings/sheridan-square/2-a/8715309"
     ]
    },
    {
     "name": "stderr",
     "output_type": "stream",
     "text": [
      "warning: body not found: 8715309\n"
     ]
    },
    {
     "name": "stdout",
     "output_type": "stream",
     "text": [
      "Scraping page 1996: https://www.renthop.com/listings/east-13th-street/3e/8198929"
     ]
    },
    {
     "name": "stderr",
     "output_type": "stream",
     "text": [
      "warning: body not found: 8634519\n"
     ]
    },
    {
     "name": "stdout",
     "output_type": "stream",
     "text": [
      "Scraping page 2004: https://www.renthop.com/listings/astor-pl/3b/8347069"
     ]
    },
    {
     "name": "stderr",
     "output_type": "stream",
     "text": [
      "warning: body not found: 8410657\n"
     ]
    },
    {
     "name": "stdout",
     "output_type": "stream",
     "text": [
      "Scraping page 2013: https://www.renthop.com/listings/west-end-avenue/11-c/8556355"
     ]
    },
    {
     "name": "stderr",
     "output_type": "stream",
     "text": [
      "warning: body not found: 8556355\n"
     ]
    },
    {
     "name": "stdout",
     "output_type": "stream",
     "text": [
      "Scraping page 2022: https://www.renthop.com/listings/west-77th-street/03g/8561846"
     ]
    },
    {
     "name": "stderr",
     "output_type": "stream",
     "text": [
      "warning: body not found: 8761138\n"
     ]
    },
    {
     "name": "stdout",
     "output_type": "stream",
     "text": [
      "Scraping page 2027: https://www.renthop.com/listings/west-31st-street/na/8695762"
     ]
    },
    {
     "name": "stderr",
     "output_type": "stream",
     "text": [
      "warning: body not found: 8760986\n"
     ]
    },
    {
     "name": "stdout",
     "output_type": "stream",
     "text": [
      "Scraping page 2040: https://www.renthop.com/listings/west-11th-street/6-a/8453703"
     ]
    },
    {
     "name": "stderr",
     "output_type": "stream",
     "text": [
      "warning: body not found: 8453703\n"
     ]
    },
    {
     "name": "stdout",
     "output_type": "stream",
     "text": [
      "Scraping page 2070: https://www.renthop.com/listings/e-46th-st/11/7511504"
     ]
    },
    {
     "name": "stderr",
     "output_type": "stream",
     "text": [
      "warning: body not found: 8709789\n"
     ]
    },
    {
     "name": "stdout",
     "output_type": "stream",
     "text": [
      "Scraping page 2071: https://www.renthop.com/listings/east-115th-street/4/8332077"
     ]
    },
    {
     "name": "stderr",
     "output_type": "stream",
     "text": [
      "warning: body not found: 8681752\n"
     ]
    },
    {
     "name": "stdout",
     "output_type": "stream",
     "text": [
      "Scraping page 2089: https://www.renthop.com/listings/seaport-blvd/ph1614/8406353"
     ]
    },
    {
     "name": "stderr",
     "output_type": "stream",
     "text": [
      "warning: body not found: 8633972\n"
     ]
    },
    {
     "name": "stdout",
     "output_type": "stream",
     "text": [
      "Scraping page 2113: https://www.renthop.com/listings/east-116th-street/2-a/8188808"
     ]
    },
    {
     "name": "stderr",
     "output_type": "stream",
     "text": [
      "warning: body not found: 8307152\n"
     ]
    },
    {
     "name": "stdout",
     "output_type": "stream",
     "text": [
      "Scraping page 2126: https://www.renthop.com/listings/38th-st/3r/8657629"
     ]
    },
    {
     "name": "stderr",
     "output_type": "stream",
     "text": [
      "warning: body not found: 8519224\n"
     ]
    },
    {
     "name": "stdout",
     "output_type": "stream",
     "text": [
      "Scraping page 2126: https://www.renthop.com/listings/w-47-st/8t/8732359"
     ]
    },
    {
     "name": "stderr",
     "output_type": "stream",
     "text": [
      "warning: body not found: 8576970\n"
     ]
    },
    {
     "name": "stdout",
     "output_type": "stream",
     "text": [
      "Scraping page 2132: https://www.renthop.com/listings/west-39th-street/ml069/8704985"
     ]
    },
    {
     "name": "stderr",
     "output_type": "stream",
     "text": [
      "warning: body not found: 8746680\n"
     ]
    },
    {
     "name": "stdout",
     "output_type": "stream",
     "text": [
      "Scraping page 2159: https://www.renthop.com/listings/w-21st-st/303/8735122"
     ]
    },
    {
     "name": "stderr",
     "output_type": "stream",
     "text": [
      "warning: body not found: 8314631\n"
     ]
    },
    {
     "name": "stdout",
     "output_type": "stream",
     "text": [
      "Scraping page 2160: https://www.renthop.com/listings/10th-ave/39f/8696612"
     ]
    },
    {
     "name": "stderr",
     "output_type": "stream",
     "text": [
      "warning: body not found: 8453744\n"
     ]
    },
    {
     "name": "stdout",
     "output_type": "stream",
     "text": [
      "Scraping page 2236: https://www.renthop.com/listings/wall-street/1508/8620478"
     ]
    },
    {
     "name": "stderr",
     "output_type": "stream",
     "text": [
      "warning: body not found: 8761493\n"
     ]
    },
    {
     "name": "stdout",
     "output_type": "stream",
     "text": [
      "Scraping page 2292: https://www.renthop.com/listings/e-77-st/na/8708730"
     ]
    },
    {
     "name": "stderr",
     "output_type": "stream",
     "text": [
      "warning: body not found: 8766563\n"
     ]
    },
    {
     "name": "stdout",
     "output_type": "stream",
     "text": [
      "Scraping page 2310: https://www.renthop.com/listings/fifth-avenue/6d/8523849"
     ]
    },
    {
     "name": "stderr",
     "output_type": "stream",
     "text": [
      "warning: body not found: 8767053\n"
     ]
    },
    {
     "name": "stdout",
     "output_type": "stream",
     "text": [
      "Scraping page 2443: https://www.renthop.com/listings/e-54-street/4a/8705808"
     ]
    },
    {
     "name": "stderr",
     "output_type": "stream",
     "text": [
      "warning: body not found: 8733689\n"
     ]
    },
    {
     "name": "stdout",
     "output_type": "stream",
     "text": [
      "Scraping page 2443: https://www.renthop.com/listings/maiden-lane/506/8570902"
     ]
    },
    {
     "name": "stderr",
     "output_type": "stream",
     "text": [
      "warning: body not found: 8734533\n"
     ]
    },
    {
     "name": "stdout",
     "output_type": "stream",
     "text": [
      "Scraping page 2463: https://www.renthop.com/listings/220-w-107th/4d/8721591"
     ]
    },
    {
     "name": "stderr",
     "output_type": "stream",
     "text": [
      "warning: body not found: 8740041\n"
     ]
    },
    {
     "name": "stdout",
     "output_type": "stream",
     "text": [
      "Scraping page https://www.renthop.com/search/nyc?min_price=0&max_price=50000&sort=hopscore&page=3174 \n",
      "Done!\n"
     ]
    },
    {
     "name": "stderr",
     "output_type": "stream",
     "text": [
      "error: incorrect page_input_box value: {} 3173\n"
     ]
    }
   ],
   "source": [
    "URL_RENTHOP = 'https://www.renthop.com/search/nyc?min_price=0&max_price=50000&sort=hopscore&page={}'\n",
    "\n",
    "# Identify old listings\n",
    "\n",
    "seen = set([r['listing_id'] for r in collection.find({}, {'_id':0, 'listing_id':1})])\n",
    "\n",
    "# Scrape new listings\n",
    "\n",
    "for pageno in range(925, 4000):\n",
    "    # Download page\n",
    "\n",
    "    url = URL_RENTHOP.format(pageno)\n",
    "    html_doc = get_page(url)\n",
    "    soup = BeautifulSoup(html_doc, 'lxml')\n",
    "    pp_progress('Scraping page {} '.format(url))\n",
    "\n",
    "    # Verify page number\n",
    "    \n",
    "    page_box = soup.find('input', id='page_input_box')\n",
    "    if page_box['value'] != str(pageno):\n",
    "        print('error: incorrect page_input_box value: {}', page_box['value'], file=sys.stderr)\n",
    "        break\n",
    "\n",
    "    # Find listings\n",
    "\n",
    "    listings_divs = soup.find_all('div', class_='search-listing')\n",
    "    if not listings_divs:\n",
    "        print('error: no listings on page {}'.format(pageno), file=sys.stderr)\n",
    "        break\n",
    "        \n",
    "    # Extract listings\n",
    "    \n",
    "    bulk = collection.initialize_ordered_bulk_op()\n",
    "    for div in listings_divs:\n",
    "        listing_id = int(div['listing_id'])\n",
    "        if listing_id in seen:\n",
    "            continue\n",
    "            \n",
    "        listing = { \n",
    "            'created' : unicode(datetime.datetime.utcnow()).split('.')[0],\n",
    "        }\n",
    "        listing['listing_id'] = listing_id\n",
    "        listing['latitude'] = float(div['latitude'])\n",
    "        listing['longitude'] = float(div['longitude'])\n",
    "        listing['loc'] = Point((listing['longitude'], listing['latitude']))\n",
    "        \n",
    "        title = div.find('a', class_='listing-title-link')\n",
    "        listing['url'] = title['href']\n",
    "        listing['title'] = title.string\n",
    "        \n",
    "        price = div.find(id='listing-{}-price'.format(listing_id))\n",
    "        listing['price'] = int(re.sub('[^0-9]', '', price.string))\n",
    "        \n",
    "        # Extract listing details\n",
    "        \n",
    "        pp_progress('Scraping page {}: {}'.format(pageno, listing['url']))\n",
    "        extract_details(listing)\n",
    "        if 'bedrooms' in listing: # ignore shares\n",
    "            bulk.insert(listing)\n",
    "            seen.add(listing_id)\n",
    "#            time.sleep(0.25)\n",
    "\n",
    "    # Save listings\n",
    "\n",
    "    try:\n",
    "        bulk.execute()\n",
    "        cache_commit()\n",
    "    except pymongo.errors.InvalidOperation as e:\n",
    "        if str(e) == 'No operations to execute':\n",
    "            pass\n",
    "        \n",
    "print('\\nDone!')"
   ]
  },
  {
   "cell_type": "code",
   "execution_count": 434,
   "metadata": {
    "collapsed": false
   },
   "outputs": [
    {
     "name": "stdout",
     "output_type": "stream",
     "text": [
      "217\n"
     ]
    }
   ],
   "source": [
    "import pandas as pd\n",
    "import numpy as np\n",
    "columns = ['listing_id', 'bedrooms', 'bathrooms', 'features', 'price']\n",
    "df = pd.DataFrame(list(collection.find({}, columns)), columns=columns)\n",
    "df.info()"
   ]
  }
 ],
 "metadata": {
  "anaconda-cloud": {},
  "kernelspec": {
   "display_name": "Python [default]",
   "language": "python",
   "name": "python2"
  },
  "language_info": {
   "codemirror_mode": {
    "name": "ipython",
    "version": 2
   },
   "file_extension": ".py",
   "mimetype": "text/x-python",
   "name": "python",
   "nbconvert_exporter": "python",
   "pygments_lexer": "ipython2",
   "version": "2.7.12"
  }
 },
 "nbformat": 4,
 "nbformat_minor": 1
}
