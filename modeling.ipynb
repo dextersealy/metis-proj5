{
 "cells": [
  {
   "cell_type": "markdown",
   "metadata": {},
   "source": [
    "# Sections"
   ]
  },
  {
   "cell_type": "markdown",
   "metadata": {},
   "source": [
    "[Objective](#Objective)  \n",
    "[Setup](#Setup)  \n",
    "[Load data](#Load-data)  \n",
    "[Scratchpad](#Scratchpad)"
   ]
  },
  {
   "cell_type": "markdown",
   "metadata": {},
   "source": [
    "# Objective\n",
    "[Back to top](#Sections)"
   ]
  },
  {
   "cell_type": "markdown",
   "metadata": {},
   "source": [
    "#### How much interest will a new rental listing on RentHop receive?\n",
    "\n",
    "In this Kaggle <a href='https://www.kaggle.com/c/two-sigma-connect-rental-listing-inquiries/data'>competition</a>, the aim is to predict how popular an apartment rental listing is based on the listing content like text description, photos, number of bedrooms, price, etc.\n",
    "\n",
    "This workbook explores whether there are any insights to be gained from the text descripiton."
   ]
  },
  {
   "cell_type": "markdown",
   "metadata": {},
   "source": [
    "#  Setup\n",
    "[Back to top](#Sections)"
   ]
  },
  {
   "cell_type": "code",
   "execution_count": 1,
   "metadata": {
    "collapsed": true
   },
   "outputs": [],
   "source": [
    "from __future__ import print_function, division"
   ]
  },
  {
   "cell_type": "code",
   "execution_count": 2,
   "metadata": {
    "collapsed": true
   },
   "outputs": [],
   "source": [
    "from collections import namedtuple\n",
    "from collections import OrderedDict\n",
    "from collections import Counter\n",
    "import numpy as np\n",
    "import pandas as pd"
   ]
  },
  {
   "cell_type": "markdown",
   "metadata": {},
   "source": [
    "Load functions for producing nicely formatted output."
   ]
  },
  {
   "cell_type": "code",
   "execution_count": 3,
   "metadata": {
    "collapsed": false
   },
   "outputs": [],
   "source": [
    "# %load utils.py\n",
    "from IPython.display import display, HTML\n",
    "\n",
    "def pp_bold(str):\n",
    "    display(HTML('<b>{}</b>'.format(str)))\n",
    "\n",
    "\n",
    "def pp_listOflist(l):\n",
    "    display(HTML(\n",
    "        u'<table>{}</table>'.format(\n",
    "            u''.join(u'<tr>{}</tr>'.format(\n",
    "                u''.join(u'<td>{}</td>'.format(v) for v in sublist)) for sublist in l))))\n",
    "    \n",
    "\n",
    "def pp_dict(d, rows=None):\n",
    "    if not rows or rows >= len(d):\n",
    "        display(HTML(\n",
    "            u'<table>{}</table>'.format(\n",
    "                u''.join(u'<tr><td><b>{}</b></td><td>{}</td></tr>'.format(k, d[k]) for k in d))))\n",
    "    else:\n",
    "        nitems = len(d)\n",
    "        width = -(-nitems // rows)\n",
    "        i = 0\n",
    "        list_ = [[] for _ in range(rows)]\n",
    "        for _ in range(width):\n",
    "            for row in range(rows):\n",
    "                if i < nitems:\n",
    "                    k, v = d.items()[i]\n",
    "                    list_[row].extend(['<b>{}</b>'.format(k), v])\n",
    "                i += 1\n",
    "        pp_listOflist(list_)\n",
    "\n",
    "\n",
    "def pp_dictOflist(d):\n",
    "    display(HTML(\n",
    "        u'<table>{}</table>'.format(\n",
    "            u''.join(u'<tr><td><b>{}</b></td>{}</tr>'.format(k,\n",
    "                u''.join(u'<td>{}</td>'.format(v) for v in d[k])) for k in d.keys()))))\n",
    "    \n",
    "\n",
    "def pp_dfinfo(df, width=4):\n",
    "    ncols = len(df.columns)\n",
    "    width = min(width, ncols)\n",
    "    depth = -(-ncols // width)\n",
    "    i = 0\n",
    "    list_ = [[] for _ in range(depth)]\n",
    "    for _ in range(width):\n",
    "        for row in range(depth):\n",
    "            if i < ncols:\n",
    "                col = df.columns[i]\n",
    "                list_[row].extend(['<b>{}</b>'.format(col), df[col].count(), df.dtypes[i]])\n",
    "            i += 1\n",
    "\n",
    "    print('{} entries, {} columns'.format(len(df), ncols))\n",
    "    pp_listOflist(list_)\n",
    "\n",
    "\n",
    "def pp_counts(series, rows=1, caption=None):\n",
    "    if caption: pp_bold(caption)\n",
    "    list_ = [(k, '{:.4f}'.format(v)) for k, v in series.to_dict().items()] \n",
    "    dict_ = OrderedDict(sorted(list_, key=lambda x: x[0]))\n",
    "    pp_dict(dict_, rows)\n",
    "\n",
    "\n",
    "def pp_progress(s):\n",
    "    sys.stdout.write('\\r{}'.format(s))\n",
    "    sys.stdout.flush()\n"
   ]
  },
  {
   "cell_type": "markdown",
   "metadata": {},
   "source": [
    "## Load data\n",
    "[Back to top](#Sections)"
   ]
  },
  {
   "cell_type": "code",
   "execution_count": 4,
   "metadata": {
    "collapsed": true
   },
   "outputs": [],
   "source": [
    "import pymongo"
   ]
  },
  {
   "cell_type": "code",
   "execution_count": 5,
   "metadata": {
    "collapsed": false
   },
   "outputs": [
    {
     "data": {
      "text/html": [
       "<b>49352 listings</b>"
      ],
      "text/plain": [
       "<IPython.core.display.HTML object>"
      ]
     },
     "metadata": {},
     "output_type": "display_data"
    }
   ],
   "source": [
    "client = pymongo.MongoClient('ec2-34-198-246-43.compute-1.amazonaws.com', 27017)\n",
    "db = client.renthop\n",
    "collection = db.listings\n",
    "pp_bold('{} listings'.format(collection.count()))"
   ]
  },
  {
   "cell_type": "markdown",
   "metadata": {},
   "source": [
    "Print one of them."
   ]
  },
  {
   "cell_type": "code",
   "execution_count": 6,
   "metadata": {
    "collapsed": false
   },
   "outputs": [
    {
     "data": {
      "text/html": [
       "<table><tr><td><b>loc</b></td><td>{u'type': u'Point', u'coordinates': [-73.9389, 40.7245]}</td></tr><tr><td><b>listing_id</b></td><td>6818139</td></tr><tr><td><b>_id</b></td><td>58ac97520b0203c6b6436f4c</td></tr><tr><td><b>display_address</b></td><td>Hausman Street</td></tr><tr><td><b>description</b></td><td>This one WON'T LAST!! Here is a stunning 3 Bedroom, 2 Full Bathroom apartment measuring approximately 1100 sqft! The layout is NOT a railroad with a King Sized master bedroom complete with on suite full bathroom and bay-windows. The 2nd and 3rd bedrooms can fit a Full or Queen sized bed and have over-sized windows.  Thee is a second full bathroom with soaking tub off of the main hallway. Open concept kitchen with large island finished in real stone counters and soft close cabinetry plus Stainless Steel industrial sized appliances! Heated hardwood flooring throughout with tons of sunlight and space. Central HVAC means that you never have to be too hot or too cold again!<br /><br />One of the best locations for street parking in Greenpoint! Don't have a car? No Problem, the Nassau G Train and Grand St L train are within reach.<br /><br />Call, Text, Email Taylor now to schedule your private showing. Not exactly what you are looking for? Email me your search criteria, I Specialize in North Brooklyn!<br /><br /><br /><br />-------------Listing courtesy of Miron Properties. All material herein is intended for information purposes only and has been compiled from sources deemed reliable. Though information is believed to be correct, it is presented subject to errors, omissions, changes or withdrawal without notice.  Miron Properties is a licensed Real Estate Broker.  www.MironProperties.com<p><a  website_redacted </td></tr><tr><td><b>created</b></td><td>2016-04-03 02:22:45</td></tr><tr><td><b>price</b></td><td>2995</td></tr><tr><td><b>bedrooms</b></td><td>3</td></tr><tr><td><b>interest_level</b></td><td>medium</td></tr><tr><td><b>longitude</b></td><td>-73.9389</td></tr><tr><td><b>photos</b></td><td>https://photos.renthop.com/2/6818139_a50e80ff79c71a1ced4ec103985abdd9.jpg\n",
       "https://photos.renthop.com/2/6818139_a2be68c008aeff88347f97dc0350f85d.jpg\n",
       "https://photos.renthop.com/2/6818139_63166d3d69203d7bd63e8e8bb47db8c6.jpg\n",
       "https://photos.renthop.com/2/6818139_1aba230faec5ed91372bb3996b98acf1.jpg\n",
       "https://photos.renthop.com/2/6818139_af28eb103bab59ec9d929c3657d846e6.jpg\n",
       "https://photos.renthop.com/2/6818139_3637c3737c1286332310476fa4d5b1d8.jpg\n",
       "https://photos.renthop.com/2/6818139_83f4bfb1928581fb9feec154629f62e9.jpg</td></tr><tr><td><b>manager_id</b></td><td>198d2e96429920ff71cd06ddff323713</td></tr><tr><td><b>latitude</b></td><td>40.7245</td></tr><tr><td><b>bathrooms</b></td><td>2.0</td></tr><tr><td><b>building_id</b></td><td>f7fc4fd7b6b80615ebfce3e212e17cce</td></tr><tr><td><b>id</b></td><td>110554</td></tr><tr><td><b>street_address</b></td><td>23 Hausman Street</td></tr><tr><td><b>features</b></td><td>Pre-War\n",
       "Dishwasher\n",
       "Hardwood Floors</td></tr></table>"
      ],
      "text/plain": [
       "<IPython.core.display.HTML object>"
      ]
     },
     "metadata": {},
     "output_type": "display_data"
    }
   ],
   "source": [
    "pp_dict(collection.find_one())"
   ]
  },
  {
   "cell_type": "markdown",
   "metadata": {},
   "source": [
    "### Add MongoDB geospatial index"
   ]
  },
  {
   "cell_type": "markdown",
   "metadata": {},
   "source": [
    "Listings have distince 'longitude' and 'latitude' fields. Combine these into an indexed 'loc' field that is compatible with mongoDB's geospatial query operations. To avoid doing this more than once, check first if the index already exists."
   ]
  },
  {
   "cell_type": "code",
   "execution_count": 7,
   "metadata": {
    "collapsed": true
   },
   "outputs": [],
   "source": [
    "from geojson import Point"
   ]
  },
  {
   "cell_type": "code",
   "execution_count": 8,
   "metadata": {
    "collapsed": false
   },
   "outputs": [
    {
     "name": "stdout",
     "output_type": "stream",
     "text": [
      "CPU times: user 0 ns, sys: 0 ns, total: 0 ns\n",
      "Wall time: 50.2 ms\n"
     ]
    }
   ],
   "source": [
    "%%time\n",
    "if not 'loc' in collection.find_one():\n",
    "    cursor = collection.find({}, {'longitude':1, 'latitude':1})\n",
    "    bulk = collection.initialize_ordered_bulk_op()\n",
    "    for r in cursor:\n",
    "        bulk.find({'_id' : r['_id']}).update({ '$set' : { 'loc' : Point((r['longitude'], r['latitude']))}})\n",
    "    bulk.execute()\n",
    "    collection.create_index([(\"loc\", pymongo.GEOSPHERE)])"
   ]
  },
  {
   "cell_type": "markdown",
   "metadata": {},
   "source": [
    "This helper function finds points within a specified circle."
   ]
  },
  {
   "cell_type": "code",
   "execution_count": 9,
   "metadata": {
    "collapsed": false
   },
   "outputs": [],
   "source": [
    "def find_near(point, distance, fields=None):\n",
    "    result = list(collection.find({'loc' : {'$near' : { '$geometry' : point, '$maxDistance' : distance }}}, fields))\n",
    "    if result and '_id' in result[0]:\n",
    "        for r in result:\n",
    "            r['_id'] = str(r['_id'])\n",
    "    return result"
   ]
  },
  {
   "cell_type": "code",
   "execution_count": 10,
   "metadata": {
    "collapsed": false
   },
   "outputs": [],
   "source": [
    "METIS_loc = Point((-73.9852, 40.7438))\n",
    "SEVEN80_loc = Point((-73.9478, 40.8339))\n",
    "EIGHT885_loc = Point((-73.9885, 40.7697))\n",
    "nearby = find_near(EIGHT885_loc, 500, ['id_', 'loc', 'street_address', 'price'])"
   ]
  },
  {
   "cell_type": "code",
   "execution_count": 11,
   "metadata": {
    "collapsed": false
   },
   "outputs": [
    {
     "name": "stdout",
     "output_type": "stream",
     "text": [
      "{u'loc': {u'type': u'Point', u'coordinates': [-73.9886, 40.7696]}, u'price': 3200, u'_id': '58ac97520b0203c6b64399d6', u'street_address': u'881 10th Avenue'}\n"
     ]
    }
   ],
   "source": [
    "print(nearby[0])"
   ]
  },
  {
   "cell_type": "code",
   "execution_count": 12,
   "metadata": {
    "collapsed": true
   },
   "outputs": [],
   "source": [
    "import matplotlib.pyplot as plt\n",
    "import scipy.stats as stats"
   ]
  },
  {
   "cell_type": "code",
   "execution_count": 14,
   "metadata": {
    "collapsed": false
   },
   "outputs": [
    {
     "data": {
      "image/png": "[encoded data removed]",
      "text/plain": [
       "<matplotlib.figure.Figure at 0x7f280becf250>"
      ]
     },
     "metadata": {},
     "output_type": "display_data"
    }
   ],
   "source": [
    "xs, ys = zip(*[x['loc']['coordinates'] for x in nearby])\n",
    "prices = sorted([x['price'] for x in nearby if x['price'] < 10000])\n",
    "fit = stats.norm.pdf(prices, np.mean(prices), np.std(prices))\n",
    "plt.plot(prices, fit,'-o')\n",
    "plt.hist(prices, normed=True)\n",
    "plt.show()\n"
   ]
  },
  {
   "cell_type": "markdown",
   "metadata": {},
   "source": [
    "# Scratchpad\n",
    "[[back to top]](#Sections)"
   ]
  },
  {
   "cell_type": "code",
   "execution_count": null,
   "metadata": {
    "collapsed": true
   },
   "outputs": [],
   "source": []
  },
  {
   "cell_type": "markdown",
   "metadata": {},
   "source": [
    "Copy listing, sans metadata, to dataframe."
   ]
  },
  {
   "cell_type": "code",
   "execution_count": 7,
   "metadata": {
    "collapsed": false
   },
   "outputs": [
    {
     "name": "stdout",
     "output_type": "stream",
     "text": [
      "CPU times: user 660 ms, sys: 964 ms, total: 1.62 s\n",
      "Wall time: 12.7 s\n"
     ]
    }
   ],
   "source": [
    "%%time\n",
    "c = collection.find({}, {'_id':0, 'id':0, 'building_id':0, 'manager_id':0, 'listing_id':0, 'photos':0})\n",
    "raw_df = pd.DataFrame(list(c))\n",
    "#raw_df.interest_level = raw_df.interest_level.astype('category', categories=['low', 'medium', 'high'])"
   ]
  },
  {
   "cell_type": "code",
   "execution_count": 8,
   "metadata": {
    "collapsed": true
   },
   "outputs": [],
   "source": [
    "import patsy\n",
    "from sklearn.linear_model import LogisticRegression\n",
    "from sklearn.neighbors import KNeighborsClassifier\n",
    "from sklearn.svm import SVC\n",
    "from sklearn.svm import LinearSVC\n",
    "from sklearn.tree import DecisionTreeClassifier\n",
    "from sklearn.ensemble import RandomForestClassifier\n",
    "from sklearn.naive_bayes import GaussianNB\n",
    "from sklearn import metrics\n",
    "from sklearn import model_selection\n",
    "from sklearn import preprocessing"
   ]
  },
  {
   "cell_type": "markdown",
   "metadata": {},
   "source": [
    "Use a fixed random seed to ensure results are repeatable."
   ]
  },
  {
   "cell_type": "code",
   "execution_count": 9,
   "metadata": {
    "collapsed": true
   },
   "outputs": [],
   "source": [
    "random_state = 4444"
   ]
  },
  {
   "cell_type": "markdown",
   "metadata": {},
   "source": [
    "### Helper functions"
   ]
  },
  {
   "cell_type": "markdown",
   "metadata": {},
   "source": [
    "This is a dumb predictor. It's used as a baseline for evaluating models. It always guesses the most common outcome in the training set. "
   ]
  },
  {
   "cell_type": "code",
   "execution_count": 10,
   "metadata": {
    "collapsed": true
   },
   "outputs": [],
   "source": [
    "class Baseline(object):\n",
    "    def __init__(self, guess=None):\n",
    "        self.guess = guess\n",
    "        \n",
    "    def fit(self, X, Y):\n",
    "        self.guess = Counter(Y).most_common(1)[0][0]\n",
    "        pass\n",
    "    \n",
    "    def predict(self, X):\n",
    "        pred = np.array([self.guess] * len(X))\n",
    "        return pred        \n",
    "    \n",
    "    def score(self, X, Y):\n",
    "        return metrics.accuracy_score(Y, self.predict(X))\n",
    "    \n",
    "    def get_params(self, deep=False):\n",
    "        return {'guess': self.guess}"
   ]
  },
  {
   "cell_type": "code",
   "execution_count": 11,
   "metadata": {
    "collapsed": false
   },
   "outputs": [],
   "source": [
    "def evaluate(models, X_train, y_train, X_test, y_test):\n",
    "    headings = ['<b>{}</b>'.format(s) for s in stats.values()]\n",
    "    d = OrderedDict({'' : headings})\n",
    "\n",
    "    # Handle single model or list\n",
    "    \n",
    "    if not isinstance(models, list):\n",
    "        models = [models]\n",
    "    \n",
    "    # Although cross_val_score uses StratifiedKFold automatically for\n",
    "    # classification estimators, lets be explicit\n",
    "\n",
    "    cv = model_selection.StratifiedKFold(n_splits=5, random_state=random_state)\n",
    "    \n",
    "    # Run models and collect stats\n",
    "    \n",
    "    for model in models:\n",
    "        cv_scores = model_selection.cross_val_score(model, X_train, y_train, cv=5, scoring='f1_weighted')\n",
    "        model.fit(X_train, y_train)\n",
    "        y_pred = model.predict(X_test)\n",
    "        precision = metrics.precision_score(y_test, y_pred)\n",
    "        recall = metrics.recall_score(y_test, y_pred)\n",
    "        f1 = metrics.f1_score(y_test, y_pred)\n",
    "        scores = [round(np.mean(cv_scores), 3)] #+ [cm[stat] for stat in stats.keys() if stat]\n",
    "        d[model.__class__.__name__] = scores\n",
    "            \n",
    "    return d"
   ]
  },
  {
   "cell_type": "markdown",
   "metadata": {},
   "source": [
    "### Prepare training matricies"
   ]
  },
  {
   "cell_type": "code",
   "execution_count": 12,
   "metadata": {
    "collapsed": true
   },
   "outputs": [],
   "source": [
    "df_model = raw_df.copy()"
   ]
  },
  {
   "cell_type": "markdown",
   "metadata": {},
   "source": [
    "Extract observations (X) and labels (y)."
   ]
  },
  {
   "cell_type": "code",
   "execution_count": 77,
   "metadata": {
    "collapsed": false
   },
   "outputs": [],
   "source": [
    "model_features = [\n",
    "    'price', 'bedrooms', 'bathrooms', 'latitude', 'longitude'\n",
    "]\n",
    "X = df_model[model_features].copy()\n",
    "y = df_model['interest_level'].copy()"
   ]
  },
  {
   "cell_type": "markdown",
   "metadata": {},
   "source": [
    "Split data into training and test sets. The target classes are imbalanced, so I stratify the folds to preserve the percentage of samples."
   ]
  },
  {
   "cell_type": "code",
   "execution_count": 78,
   "metadata": {
    "collapsed": false
   },
   "outputs": [],
   "source": [
    "TrainTestSplit = namedtuple('TrainTestSplit', 'X_train, X_test, y_train, y_test')\n",
    "split_params = {'test_size' : .30, 'random_state' : random_state, 'stratify' : y}\n",
    "train_test = TrainTestSplit(*model_selection.train_test_split(X, y, **split_params))"
   ]
  },
  {
   "cell_type": "markdown",
   "metadata": {},
   "source": [
    "Verify the training and test sets have the same mix of target labels."
   ]
  },
  {
   "cell_type": "code",
   "execution_count": 79,
   "metadata": {
    "collapsed": true
   },
   "outputs": [
    {
     "data": {
      "text/html": [
       "<b>Train</b>"
      ],
      "text/plain": [
       "<IPython.core.display.HTML object>"
      ]
     },
     "metadata": {},
     "output_type": "display_data"
    },
    {
     "data": {
      "text/html": [
       "<table><tr><td><b>high</b></td><td>8%</td></tr><tr><td><b>medium</b></td><td>23%</td></tr><tr><td><b>low</b></td><td>69%</td></tr></table>"
      ],
      "text/plain": [
       "<IPython.core.display.HTML object>"
      ]
     },
     "metadata": {},
     "output_type": "display_data"
    },
    {
     "data": {
      "text/html": [
       "<b>Test</b>"
      ],
      "text/plain": [
       "<IPython.core.display.HTML object>"
      ]
     },
     "metadata": {},
     "output_type": "display_data"
    },
    {
     "data": {
      "text/html": [
       "<table><tr><td><b>high</b></td><td>8%</td></tr><tr><td><b>medium</b></td><td>23%</td></tr><tr><td><b>low</b></td><td>69%</td></tr></table>"
      ],
      "text/plain": [
       "<IPython.core.display.HTML object>"
      ]
     },
     "metadata": {},
     "output_type": "display_data"
    }
   ],
   "source": [
    "def report_mix(X, y, name):\n",
    "    mix = y.value_counts() / sum(y.value_counts())\n",
    "    pp_bold(name)\n",
    "    pp_dict({ label : '{:.0%}'.format(mix[i]) for i, label in enumerate(mix.index)})\n",
    "\n",
    "report_mix(train_test.X_train, train_test.y_train, 'Train')\n",
    "report_mix(train_test.X_test, train_test.y_test, 'Test')"
   ]
  },
  {
   "cell_type": "code",
   "execution_count": 80,
   "metadata": {
    "collapsed": true
   },
   "outputs": [],
   "source": [
    "X_train, X_test = train_test.X_train, train_test.X_test\n",
    "y_train, y_test = train_test.y_train, train_test.y_test"
   ]
  },
  {
   "cell_type": "markdown",
   "metadata": {},
   "source": [
    "Try all algorithms"
   ]
  },
  {
   "cell_type": "code",
   "execution_count": 91,
   "metadata": {
    "collapsed": false
   },
   "outputs": [],
   "source": [
    "model = KNeighborsClassifier()\n",
    "cv_scores = model_selection.cross_val_score(model, X_train, y_train, cv=5)\n",
    "model.fit(X_train, y_train)\n",
    "y_pred = model.predict(X_test)\n",
    "cm = metrics.confusion_matrix(y_test, y_pred)\n"
   ]
  },
  {
   "cell_type": "code",
   "execution_count": 95,
   "metadata": {
    "collapsed": false
   },
   "outputs": [
    {
     "data": {
      "text/plain": [
       "array([ 0.2987436 ,  0.81234812,  0.26712459])"
      ]
     },
     "execution_count": 95,
     "metadata": {},
     "output_type": "execute_result"
    }
   ],
   "source": [
    "metrics.f1_score(y_test, y_pred, average=None)"
   ]
  },
  {
   "cell_type": "code",
   "execution_count": 83,
   "metadata": {
    "collapsed": false
   },
   "outputs": [
    {
     "data": {
      "text/html": [
       "<table><tr><td><b></b></td><td><b>Cross-validation score</b></td><td><b>Diplomacy<br>Precision</b></td><td><b>Diplomacy<br>Recall</b></td><td><b>Military<br>Precision</b></td><td><b>Military<br>Recall</b></td><td><b>Accuracy</b></td></tr><tr><td><b>Baseline</b></td><td>0.695</td></tr><tr><td><b>KNeighborsClassifier</b></td><td>0.677</td></tr><tr><td><b>LogisticRegression</b></td><td>0.691</td></tr><tr><td><b>LinearSVC</b></td><td>0.473</td></tr><tr><td><b>SVC</b></td><td>0.697</td></tr><tr><td><b>DecisionTreeClassifier</b></td><td>0.66</td></tr><tr><td><b>RandomForestClassifier</b></td><td>0.686</td></tr><tr><td><b>GaussianNB</b></td><td>0.273</td></tr></table>"
      ],
      "text/plain": [
       "<IPython.core.display.HTML object>"
      ]
     },
     "metadata": {},
     "output_type": "display_data"
    }
   ],
   "source": [
    "%%time\n",
    "models = [\n",
    "    Baseline(),\n",
    "    KNeighborsClassifier(),\n",
    "    LogisticRegression(random_state=random_state),\n",
    "    SVC(random_state=random_state),\n",
    "#    LinearSVC(random_state=random_state),\n",
    "#    DecisionTreeClassifier(random_state=random_state),\n",
    "#    RandomForestClassifier(random_state=random_state),\n",
    "#    GaussianNB()\n",
    "]\n",
    "\n",
    "d = evaluate(models, X_train, y_train, X_test, y_test)    \n",
    "pp_dictOflist(d)"
   ]
  }
 ],
 "metadata": {
  "anaconda-cloud": {},
  "kernelspec": {
   "display_name": "Python [default]",
   "language": "python",
   "name": "python2"
  },
  "language_info": {
   "codemirror_mode": {
    "name": "ipython",
    "version": 2
   },
   "file_extension": ".py",
   "mimetype": "text/x-python",
   "name": "python",
   "nbconvert_exporter": "python",
   "pygments_lexer": "ipython2",
   "version": "2.7.12"
  }
 },
 "nbformat": 4,
 "nbformat_minor": 1
}
